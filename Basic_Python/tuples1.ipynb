{
  "metadata": {
    "kernelspec": {
      "name": "python",
      "display_name": "Python (Pyodide)",
      "language": "python"
    },
    "language_info": {
      "codemirror_mode": {
        "name": "python",
        "version": 3
      },
      "file_extension": ".py",
      "mimetype": "text/x-python",
      "name": "python",
      "nbconvert_exporter": "python",
      "pygments_lexer": "ipython3",
      "version": "3.8"
    }
  },
  "nbformat_minor": 5,
  "nbformat": 4,
  "cells": [
    {
      "id": "b65d222f-5944-4ddf-8ec0-9349f8ef9c2e",
      "cell_type": "markdown",
      "source": "### Tuples is a collection of data which are unchangeable and ordered.",
      "metadata": {}
    },
    {
      "id": "d09cd157-46b9-499d-a4c8-2c9fb6373b45",
      "cell_type": "code",
      "source": "tuple=('ana','banana','canana')\nprint(tuple)",
      "metadata": {
        "trusted": true
      },
      "outputs": [
        {
          "name": "stdout",
          "output_type": "stream",
          "text": "('ana', 'banana', 'canana')\n"
        }
      ],
      "execution_count": 2
    },
    {
      "id": "2100642f-481a-4acc-b67d-49d55e0c58f5",
      "cell_type": "markdown",
      "source": "- duplicate is allow here",
      "metadata": {}
    },
    {
      "id": "3798963c-69b5-432a-87b3-2ae9f5b559c7",
      "cell_type": "code",
      "source": "tuple=('ana','banana','canana','ana')\nprint(tuple)",
      "metadata": {
        "trusted": true
      },
      "outputs": [
        {
          "name": "stdout",
          "output_type": "stream",
          "text": "('ana', 'banana', 'canana', 'ana')\n"
        }
      ],
      "execution_count": 4
    },
    {
      "id": "4d6382d5-46ce-41a1-9cbe-eac360c737f3",
      "cell_type": "code",
      "source": "print(len(tuple))",
      "metadata": {
        "trusted": true
      },
      "outputs": [
        {
          "name": "stdout",
          "output_type": "stream",
          "text": "4\n"
        }
      ],
      "execution_count": 5
    },
    {
      "id": "24d8c33a-686a-4b8a-8d1d-b6c88665da83",
      "cell_type": "code",
      "source": "print(tuple[0])",
      "metadata": {
        "trusted": true
      },
      "outputs": [
        {
          "name": "stdout",
          "output_type": "stream",
          "text": "ana\n"
        }
      ],
      "execution_count": 6
    },
    {
      "id": "004e6074-004d-4942-9c5d-adcb9f6297de",
      "cell_type": "code",
      "source": "print(tuple[3])",
      "metadata": {
        "trusted": true
      },
      "outputs": [
        {
          "name": "stdout",
          "output_type": "stream",
          "text": "ana\n"
        }
      ],
      "execution_count": 8
    },
    {
      "id": "9490a034-23d1-4ce3-895b-ad4129867988",
      "cell_type": "code",
      "source": "tuple=('ana',)\nprint(type(tuple))",
      "metadata": {
        "trusted": true
      },
      "outputs": [
        {
          "name": "stdout",
          "output_type": "stream",
          "text": "<class 'tuple'>\n"
        }
      ],
      "execution_count": 9
    },
    {
      "id": "f33f5f88-979f-4fa5-8693-d88e6cb92cd6",
      "cell_type": "code",
      "source": "tuple=('ana')\nprint(type(tuple))",
      "metadata": {
        "trusted": true
      },
      "outputs": [
        {
          "name": "stdout",
          "output_type": "stream",
          "text": "<class 'str'>\n"
        }
      ],
      "execution_count": 10
    },
    {
      "id": "dc703a5e-9132-416f-bba6-3d11ddb5c66c",
      "cell_type": "code",
      "source": "tuple=('ana','banana','canana','ana',)\nprint(type(tuple))",
      "metadata": {
        "trusted": true
      },
      "outputs": [
        {
          "name": "stdout",
          "output_type": "stream",
          "text": "<class 'tuple'>\n"
        }
      ],
      "execution_count": 11
    },
    {
      "id": "740d2c0a-c955-460d-91f1-d296594ae76f",
      "cell_type": "code",
      "source": "tuple=('ana','banana','canana','ana')\nprint(type(tuple))",
      "metadata": {
        "trusted": true
      },
      "outputs": [
        {
          "name": "stdout",
          "output_type": "stream",
          "text": "<class 'tuple'>\n"
        }
      ],
      "execution_count": 12
    },
    {
      "id": "dd6626bc-79d8-4390-a235-e94c53c14446",
      "cell_type": "markdown",
      "source": "- The \"tuple()\" constructor",
      "metadata": {}
    },
    {
      "id": "3af0d6af-dfff-4032-9630-2eb5f514e166",
      "cell_type": "code",
      "source": "tupleset = (\"ana\", \"banana\", \"canana\")\nprint(type(tupleset))",
      "metadata": {
        "trusted": true
      },
      "outputs": [
        {
          "name": "stdout",
          "output_type": "stream",
          "text": "<class 'tuple'>\n"
        }
      ],
      "execution_count": 18
    },
    {
      "id": "8f782975-5736-416b-ac36-a341f499f6cf",
      "cell_type": "code",
      "source": "print(tupleset[-1])",
      "metadata": {
        "trusted": true
      },
      "outputs": [
        {
          "name": "stdout",
          "output_type": "stream",
          "text": "canana\n"
        }
      ],
      "execution_count": 19
    },
    {
      "id": "e0f19aad-e066-466f-9206-3c7063c2fb42",
      "cell_type": "code",
      "source": "print(tupleset[-2])",
      "metadata": {
        "trusted": true
      },
      "outputs": [
        {
          "name": "stdout",
          "output_type": "stream",
          "text": "banana\n"
        }
      ],
      "execution_count": 20
    },
    {
      "id": "586c3dbf-f6f0-4e6a-9932-55f192c47362",
      "cell_type": "code",
      "source": "thistuple = (\"apple\", \"banana\", \"cherry\", \"orange\", \"kiwi\", \"melon\", \"mango\")\nprint(thistuple[2:])",
      "metadata": {
        "trusted": true
      },
      "outputs": [
        {
          "name": "stdout",
          "output_type": "stream",
          "text": "('cherry', 'orange', 'kiwi', 'melon', 'mango')\n"
        }
      ],
      "execution_count": 21
    },
    {
      "id": "06f3fce5-d66a-4a1a-847e-e08977f6accd",
      "cell_type": "code",
      "source": "thistuple = (\"apple\", \"banana\", \"cherry\", \"orange\", \"kiwi\", \"melon\", \"mango\")\nprint(thistuple[2:4])",
      "metadata": {
        "trusted": true
      },
      "outputs": [
        {
          "name": "stdout",
          "output_type": "stream",
          "text": "('cherry', 'orange')\n"
        }
      ],
      "execution_count": 22
    },
    {
      "id": "5d3877cf-3f1a-463b-b209-87ece36fd962",
      "cell_type": "code",
      "source": "thistuple = (\"apple\", \"banana\", \"cherry\", \"orange\", \"kiwi\", \"melon\", \"mango\")\nprint(thistuple[2:3])",
      "metadata": {
        "trusted": true
      },
      "outputs": [
        {
          "name": "stdout",
          "output_type": "stream",
          "text": "('cherry',)\n"
        }
      ],
      "execution_count": 23
    },
    {
      "id": "f0057776-6d60-458c-a7a0-88024d7bd3e8",
      "cell_type": "code",
      "source": "thistuple = (\"apple\", \"banana\", \"cherry\", \"orange\", \"kiwi\", \"melon\", \"mango\")\nprint(thistuple[:5])",
      "metadata": {
        "trusted": true
      },
      "outputs": [
        {
          "name": "stdout",
          "output_type": "stream",
          "text": "('apple', 'banana', 'cherry', 'orange', 'kiwi')\n"
        }
      ],
      "execution_count": 24
    },
    {
      "id": "ebef5896-edeb-4270-bb47-c4588e0675d2",
      "cell_type": "code",
      "source": "thistuple = (\"apple\", \"banana\", \"cherry\", \"orange\", \"kiwi\", \"melon\", \"mango\")\nif \"kiwi\" in thistuple:\n    print(\"YES\")",
      "metadata": {
        "trusted": true
      },
      "outputs": [
        {
          "name": "stdout",
          "output_type": "stream",
          "text": "YES\n"
        }
      ],
      "execution_count": 31
    },
    {
      "id": "d94553b9-0025-48a5-b2d4-24627707aff0",
      "cell_type": "code",
      "source": "",
      "metadata": {
        "trusted": true
      },
      "outputs": [],
      "execution_count": null
    },
    {
      "id": "a1be4090-5812-4220-88f7-5abc5b0730d4",
      "cell_type": "code",
      "source": "",
      "metadata": {
        "trusted": true
      },
      "outputs": [],
      "execution_count": null
    }
  ]
}