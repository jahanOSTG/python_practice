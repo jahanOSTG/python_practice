{
  "metadata": {
    "kernelspec": {
      "name": "python",
      "display_name": "Python (Pyodide)",
      "language": "python"
    },
    "language_info": {
      "codemirror_mode": {
        "name": "python",
        "version": 3
      },
      "file_extension": ".py",
      "mimetype": "text/x-python",
      "name": "python",
      "nbconvert_exporter": "python",
      "pygments_lexer": "ipython3",
      "version": "3.8"
    }
  },
  "nbformat_minor": 5,
  "nbformat": 4,
  "cells": [
    {
      "id": "9d82f3cc-9e76-4460-a5a8-88b288402b09",
      "cell_type": "markdown",
      "source": "# String operations",
      "metadata": {}
    },
    {
      "id": "31149934-d410-4794-9c45-85da11ffe6fd",
      "cell_type": "code",
      "source": "print(\"Richmond Antor Biswas\")",
      "metadata": {
        "trusted": true
      },
      "outputs": [
        {
          "name": "stdout",
          "output_type": "stream",
          "text": "Richmond Antor Biswas\n"
        }
      ],
      "execution_count": 1
    },
    {
      "id": "69d74e4a-5035-4348-99e0-e92af6a910b4",
      "cell_type": "code",
      "source": "print(\"Faria\")\n",
      "metadata": {
        "trusted": true
      },
      "outputs": [
        {
          "name": "stdout",
          "output_type": "stream",
          "text": "Faria\n"
        }
      ],
      "execution_count": 3
    },
    {
      "id": "d84e729b-d1d4-43d8-a316-53f7ccf9e144",
      "cell_type": "code",
      "source": "a = 'Faria'\nb = \"jahan\"\nc = \"janie\"\nprint(a + b + c)",
      "metadata": {
        "trusted": true
      },
      "outputs": [
        {
          "name": "stdout",
          "output_type": "stream",
          "text": "Fariajahanjanie\n"
        }
      ],
      "execution_count": 6
    },
    {
      "id": "46b1c27f-aa75-49de-973a-06d5ff26f485",
      "cell_type": "code",
      "source": "a=\"\"\"\nHi,My name is Faria  Jahan Janie,\nThe name of my frind id Richmond Antor Biswas.\"\"\"\nprint(a)",
      "metadata": {
        "trusted": true
      },
      "outputs": [
        {
          "name": "stdout",
          "output_type": "stream",
          "text": "\nHi,My name is Faria  Jahan Janie,\nThe name of my frind id Richmond Antor Biswas.\n"
        }
      ],
      "execution_count": 7
    },
    {
      "id": "b1c57606-5754-4efc-bbe5-a97542b98610",
      "cell_type": "code",
      "source": "print(a[2])",
      "metadata": {
        "trusted": true
      },
      "outputs": [
        {
          "name": "stdout",
          "output_type": "stream",
          "text": "i\n"
        }
      ],
      "execution_count": 8
    },
    {
      "id": "60546fda-095d-47b8-82d5-ef000db62015",
      "cell_type": "code",
      "source": "print(a[3])",
      "metadata": {
        "trusted": true
      },
      "outputs": [
        {
          "name": "stdout",
          "output_type": "stream",
          "text": ",\n"
        }
      ],
      "execution_count": 10
    },
    {
      "id": "2f33f9c6-4f6f-4f7b-9009-d7211a408de4",
      "cell_type": "code",
      "source": "for x in \"Richmond\":\n  print(x)",
      "metadata": {
        "trusted": true
      },
      "outputs": [
        {
          "name": "stdout",
          "output_type": "stream",
          "text": "R\ni\nc\nh\nm\no\nn\nd\n"
        }
      ],
      "execution_count": 12
    },
    {
      "id": "2d0efb6f-34a5-4145-9f99-02376a8096ab",
      "cell_type": "markdown",
      "source": "## Slicing String",
      "metadata": {}
    },
    {
      "id": "f95b5069-50eb-4615-a9a4-574920929122",
      "cell_type": "code",
      "source": "a=\"Faria Jahan\"\nprint(a[3:6])",
      "metadata": {
        "trusted": true
      },
      "outputs": [
        {
          "name": "stdout",
          "output_type": "stream",
          "text": "ia \n"
        }
      ],
      "execution_count": 13
    },
    {
      "id": "09e29c9f-fa93-415c-82b5-04d39913c45d",
      "cell_type": "code",
      "source": "print(a[:5])",
      "metadata": {
        "trusted": true
      },
      "outputs": [
        {
          "name": "stdout",
          "output_type": "stream",
          "text": "Faria\n"
        }
      ],
      "execution_count": 14
    },
    {
      "id": "aa1b3a16-813f-4641-ab05-dcf17127117a",
      "cell_type": "code",
      "source": "print(a.upper())",
      "metadata": {
        "trusted": true
      },
      "outputs": [
        {
          "name": "stdout",
          "output_type": "stream",
          "text": "FARIA JAHAN\n"
        }
      ],
      "execution_count": 15
    },
    {
      "id": "c409a9a8-f74b-4a93-b90b-cd1c6b8c0c54",
      "cell_type": "code",
      "source": "print(a.lower())",
      "metadata": {
        "trusted": true
      },
      "outputs": [
        {
          "name": "stdout",
          "output_type": "stream",
          "text": "faria jahan\n"
        }
      ],
      "execution_count": 16
    },
    {
      "id": "d0df2510-3cbc-4945-83c1-66334dcc7753",
      "cell_type": "code",
      "source": "print(a.())",
      "metadata": {
        "trusted": true
      },
      "outputs": [],
      "execution_count": null
    }
  ]
}