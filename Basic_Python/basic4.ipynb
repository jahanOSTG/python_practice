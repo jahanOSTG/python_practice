{
  "metadata": {
    "kernelspec": {
      "name": "python",
      "display_name": "Python (Pyodide)",
      "language": "python"
    },
    "language_info": {
      "codemirror_mode": {
        "name": "python",
        "version": 3
      },
      "file_extension": ".py",
      "mimetype": "text/x-python",
      "name": "python",
      "nbconvert_exporter": "python",
      "pygments_lexer": "ipython3",
      "version": "3.8"
    }
  },
  "nbformat_minor": 5,
  "nbformat": 4,
  "cells": [
    {
      "id": "862b18e0-c706-421a-941e-22b7b952e9fd",
      "cell_type": "markdown",
      "source": "# string format",
      "metadata": {}
    },
    {
      "id": "ccd1d6d9-276e-4005-9cca-271763c87607",
      "cell_type": "code",
      "source": "a=24\nb=\"I am Janie,My age is \"+  str(a)\nprint(b)",
      "metadata": {
        "trusted": true
      },
      "outputs": [
        {
          "name": "stdout",
          "output_type": "stream",
          "text": "I am Janie,My age is 24\n"
        }
      ],
      "execution_count": 8
    },
    {
      "id": "c5ddb08d-3cbb-4fc5-9767-37dfe8c0d13d",
      "cell_type": "markdown",
      "source": "## f string",
      "metadata": {}
    },
    {
      "id": "8b0e1cee-b984-4344-9e08-fc969eb2b09c",
      "cell_type": "code",
      "source": "b=f\"I am Janie,My age is {a}\"\nprint(b)",
      "metadata": {
        "trusted": true
      },
      "outputs": [
        {
          "name": "stdout",
          "output_type": "stream",
          "text": "I am Janie,My age is 24\n"
        }
      ],
      "execution_count": 14
    },
    {
      "id": "322e2ad7-b966-4ef0-9f91-499e6b59ee68",
      "cell_type": "code",
      "source": "b=f\"The {a} o'clock\"\nprint(b)",
      "metadata": {
        "trusted": true
      },
      "outputs": [
        {
          "name": "stdout",
          "output_type": "stream",
          "text": "The 24 o'clock\n"
        }
      ],
      "execution_count": 15
    },
    {
      "id": "373a052e-5cd6-438a-b28b-07a292d96c01",
      "cell_type": "code",
      "source": "a=59\nb=f\"The prise id {a:.2f} dollars\"\nprint(b)",
      "metadata": {
        "trusted": true
      },
      "outputs": [
        {
          "name": "stdout",
          "output_type": "stream",
          "text": "The prise id 59.00 dollars\n"
        }
      ],
      "execution_count": 16
    },
    {
      "id": "0728b54e-102e-481c-a504-3e7f837bd8a4",
      "cell_type": "code",
      "source": "b=f\"The multiplication {5*4}.\"\nprint(b)",
      "metadata": {
        "trusted": true
      },
      "outputs": [
        {
          "name": "stdout",
          "output_type": "stream",
          "text": "The multiplication 20.\n"
        }
      ],
      "execution_count": 19
    }
  ]
}