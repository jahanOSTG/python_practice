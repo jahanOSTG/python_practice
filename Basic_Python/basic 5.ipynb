{
  "metadata": {
    "kernelspec": {
      "name": "python",
      "display_name": "Python (Pyodide)",
      "language": "python"
    },
    "language_info": {
      "codemirror_mode": {
        "name": "python",
        "version": 3
      },
      "file_extension": ".py",
      "mimetype": "text/x-python",
      "name": "python",
      "nbconvert_exporter": "python",
      "pygments_lexer": "ipython3",
      "version": "3.8"
    }
  },
  "nbformat_minor": 5,
  "nbformat": 4,
  "cells": [
    {
      "id": "6cd6119c-055e-48f8-a7cf-686731476e64",
      "cell_type": "markdown",
      "source": "# ",
      "metadata": {}
    },
    {
      "id": "8355f61e-2159-4f4e-8137-928d80bb6ebb",
      "cell_type": "markdown",
      "source": "# Booleans operations",
      "metadata": {}
    },
    {
      "id": "68866d33-ccb3-4c62-9216-c9055c1bacca",
      "cell_type": "code",
      "source": "a = 5\nb = 10\nif b > a:\n    print(\"value of b is: \" + str(b))\nelse:\n    print(\"value of a is: \" + str(a))\n",
      "metadata": {
        "trusted": true
      },
      "outputs": [
        {
          "name": "stdout",
          "output_type": "stream",
          "text": "value of b is: 10\n"
        }
      ],
      "execution_count": 5
    },
    {
      "id": "53a7d8f9-cd57-41b1-a827-aac225f52d1c",
      "cell_type": "code",
      "source": "print(bool(\"Hellow\"))",
      "metadata": {
        "trusted": true
      },
      "outputs": [
        {
          "name": "stdout",
          "output_type": "stream",
          "text": "True\n"
        }
      ],
      "execution_count": 7
    },
    {
      "id": "beba62ec-4f1e-41ba-bbbd-f3daafb8436f",
      "cell_type": "code",
      "source": "print(bool([1, 2, 3])) \n",
      "metadata": {
        "trusted": true
      },
      "outputs": [
        {
          "name": "stdout",
          "output_type": "stream",
          "text": "True\n"
        }
      ],
      "execution_count": 9
    },
    {
      "id": "12d77bd9-be9c-4037-84f2-a44b656434a9",
      "cell_type": "code",
      "source": "def janie():\n    return True\nprint(janie())",
      "metadata": {
        "trusted": true
      },
      "outputs": [
        {
          "name": "stdout",
          "output_type": "stream",
          "text": "True\n"
        }
      ],
      "execution_count": 12
    },
    {
      "id": "94d38ed1-a5f0-425c-8ac9-d5322f6a7701",
      "cell_type": "code",
      "source": "if(janie()):\n    print(\"YES\")\nelse:\n    print(\"NO\")\n    ",
      "metadata": {
        "trusted": true
      },
      "outputs": [
        {
          "name": "stdout",
          "output_type": "stream",
          "text": "YES\n"
        }
      ],
      "execution_count": 14
    },
    {
      "id": "9c93e780-9781-405c-a765-dda1e61924ae",
      "cell_type": "code",
      "source": "a=80\nprint(isinstance(a,int))",
      "metadata": {
        "trusted": true
      },
      "outputs": [
        {
          "name": "stdout",
          "output_type": "stream",
          "text": "True\n"
        }
      ],
      "execution_count": 17
    },
    {
      "id": "58ebf28a-6165-40ac-a26d-ab5bffe9d6c9",
      "cell_type": "code",
      "source": "a=50\nb=70\nc=8\nprint(a*b-a/7)",
      "metadata": {
        "trusted": true
      },
      "outputs": [
        {
          "name": "stdout",
          "output_type": "stream",
          "text": "3492.8571428571427\n"
        }
      ],
      "execution_count": 18
    },
    {
      "id": "d59f7005-ba98-49c5-a4c2-76fd5b7a396e",
      "cell_type": "code",
      "source": "c+=7\nprint(c)",
      "metadata": {
        "trusted": true
      },
      "outputs": [
        {
          "name": "stdout",
          "output_type": "stream",
          "text": "29\n"
        }
      ],
      "execution_count": 23
    },
    {
      "id": "d6823a12-78f5-4779-b4fc-a6620dce4390",
      "cell_type": "markdown",
      "source": "# Python Lists",
      "metadata": {}
    },
    {
      "id": "80ab28e5-a25f-4298-939e-898f95edb9f6",
      "cell_type": "code",
      "source": "",
      "metadata": {
        "trusted": true
      },
      "outputs": [],
      "execution_count": null
    }
  ]
}