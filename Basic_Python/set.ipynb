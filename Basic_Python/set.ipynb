{
  "metadata": {
    "kernelspec": {
      "name": "python",
      "display_name": "Python (Pyodide)",
      "language": "python"
    },
    "language_info": {
      "codemirror_mode": {
        "name": "python",
        "version": 3
      },
      "file_extension": ".py",
      "mimetype": "text/x-python",
      "name": "python",
      "nbconvert_exporter": "python",
      "pygments_lexer": "ipython3",
      "version": "3.8"
    }
  },
  "nbformat_minor": 5,
  "nbformat": 4,
  "cells": [
    {
      "id": "dd021223-6f37-4a42-b98b-4b4f01395ce3",
      "cell_type": "markdown",
      "source": "### Set is a collection which is unordered, unchangeable*, and unindexed. No duplicate members.\n- Sets are used to store multiple item in a single variable\n- Once a set is created, you cannot change its items, but you can add new items.\n",
      "metadata": {}
    },
    {
      "id": "341da7b9-fc24-4847-9309-e46158717069",
      "cell_type": "code",
      "source": "sub={'bangla','math','english'}\nprint(sub)",
      "metadata": {
        "trusted": true
      },
      "outputs": [
        {
          "name": "stdout",
          "output_type": "stream",
          "text": "{'english', 'bangla', 'math'}\n"
        }
      ],
      "execution_count": 2
    },
    {
      "id": "10c4eb0d-674f-435b-a9bd-436ef9d5fb91",
      "cell_type": "markdown",
      "source": "- duplicate not allow",
      "metadata": {}
    },
    {
      "id": "59cfcf99-fda5-4e94-af24-a83b7ec8d89d",
      "cell_type": "code",
      "source": "sub={'bangla','math','english','bangla'}\nprint(sub)",
      "metadata": {
        "trusted": true
      },
      "outputs": [
        {
          "name": "stdout",
          "output_type": "stream",
          "text": "{'english', 'bangla', 'math'}\n"
        }
      ],
      "execution_count": 3
    },
    {
      "id": "b12f1ccc-1ff6-4157-a0ca-cff8d0ef6f0b",
      "cell_type": "code",
      "source": "sub={'bangla','math','english','bangla',True,1,1,0,0}\nprint(sub)",
      "metadata": {
        "trusted": true
      },
      "outputs": [
        {
          "name": "stdout",
          "output_type": "stream",
          "text": "{0, True, 'bangla', 'english', 'math'}\n"
        }
      ],
      "execution_count": 6
    },
    {
      "id": "7cbbcde1-92e1-4dbb-b4d3-e409842fc96c",
      "cell_type": "code",
      "source": "sub={'bangla','math','english','bangla',False,0}\nprint(sub)",
      "metadata": {
        "trusted": true
      },
      "outputs": [
        {
          "name": "stdout",
          "output_type": "stream",
          "text": "{False, 'english', 'bangla', 'math'}\n"
        }
      ],
      "execution_count": 8
    },
    {
      "id": "32324668-1427-41f8-8150-58afbc940229",
      "cell_type": "code",
      "source": "print(len(sub))",
      "metadata": {
        "trusted": true
      },
      "outputs": [
        {
          "name": "stdout",
          "output_type": "stream",
          "text": "4\n"
        }
      ],
      "execution_count": 9
    },
    {
      "id": "f4555eef-2ed7-4fd7-b954-aa33e1ba1476",
      "cell_type": "code",
      "source": "print(sub)",
      "metadata": {
        "trusted": true
      },
      "outputs": [
        {
          "name": "stdout",
          "output_type": "stream",
          "text": "{False, 'english', 'bangla', 'math'}\n"
        }
      ],
      "execution_count": 10
    },
    {
      "id": "6972115f-0098-4bfe-9421-517dcbaabe2b",
      "cell_type": "code",
      "source": "sub=set((1,True,'janie','antor',0,5))\nprint(type(sub))",
      "metadata": {
        "trusted": true
      },
      "outputs": [
        {
          "name": "stdout",
          "output_type": "stream",
          "text": "<class 'set'>\n"
        }
      ],
      "execution_count": 11
    },
    {
      "id": "688e7e9c-e7dc-4606-b5ea-b04ad1026811",
      "cell_type": "code",
      "source": "sub={'bangla','math','english','bangla'}\nprint(type(sub))",
      "metadata": {
        "trusted": true
      },
      "outputs": [
        {
          "name": "stdout",
          "output_type": "stream",
          "text": "<class 'set'>\n"
        }
      ],
      "execution_count": 13
    },
    {
      "id": "d431bb9c-8ddc-4c26-8e2a-65acd9ba23cb",
      "cell_type": "code",
      "source": "for x in sub:\n    print(x)",
      "metadata": {
        "trusted": true
      },
      "outputs": [
        {
          "name": "stdout",
          "output_type": "stream",
          "text": "english\nbangla\nmath\n"
        }
      ],
      "execution_count": 14
    },
    {
      "id": "23ced465-b981-4d01-b8b7-f2b4c6346b59",
      "cell_type": "code",
      "source": "print('math' in sub)",
      "metadata": {
        "trusted": true
      },
      "outputs": [
        {
          "name": "stdout",
          "output_type": "stream",
          "text": "True\n"
        }
      ],
      "execution_count": 16
    },
    {
      "id": "abacff1f-4d37-4423-ae23-dae69d2bd071",
      "cell_type": "code",
      "source": "print('math' not in sub)",
      "metadata": {
        "trusted": true
      },
      "outputs": [
        {
          "name": "stdout",
          "output_type": "stream",
          "text": "False\n"
        }
      ],
      "execution_count": 17
    },
    {
      "id": "ddbdd8cb-a1bf-4b32-a18b-49bbe560458c",
      "cell_type": "markdown",
      "source": "- Edit set items",
      "metadata": {}
    },
    {
      "id": "bf33694c-0ce4-46aa-bc25-f4aa38ada491",
      "cell_type": "code",
      "source": "sub.add('drawing')\nprint(sub)",
      "metadata": {
        "trusted": true
      },
      "outputs": [
        {
          "name": "stdout",
          "output_type": "stream",
          "text": "{'english', 'bangla', 'drawing', 'math'}\n"
        }
      ],
      "execution_count": 18
    },
    {
      "id": "e9384d66-f571-4859-aa8c-55a6690b0f14",
      "cell_type": "markdown",
      "source": "- To add items from another set into the current set, use the update() method.",
      "metadata": {}
    },
    {
      "id": "33f5ce6f-0cb2-4dc6-ab89-106d09d26310",
      "cell_type": "code",
      "source": "num={6,4,3,2,6,9}\nsub.update(num)\nprint(sub)",
      "metadata": {
        "trusted": true
      },
      "outputs": [
        {
          "name": "stdout",
          "output_type": "stream",
          "text": "{'bangla', 2, 3, 4, 6, 9, 'drawing', 'english', 'math'}\n"
        }
      ],
      "execution_count": 20
    },
    {
      "id": "6a7be7fe-d499-42fa-8957-41949a03623e",
      "cell_type": "markdown",
      "source": "### Remove set items",
      "metadata": {}
    },
    {
      "id": "17a4c8c3-34c6-40c0-a4c9-bcc976d5ffdf",
      "cell_type": "code",
      "source": "print(sub)",
      "metadata": {
        "trusted": true
      },
      "outputs": [
        {
          "name": "stdout",
          "output_type": "stream",
          "text": "{'bangla', 2, 3, 4, 6, 9, 'drawing', 'english', 'math'}\n"
        }
      ],
      "execution_count": 22
    },
    {
      "id": "311bc64b-5b07-40dc-927b-d3adf20c3e3a",
      "cell_type": "code",
      "source": "sub.remove(9)\nprint(sub)",
      "metadata": {
        "trusted": true
      },
      "outputs": [
        {
          "name": "stdout",
          "output_type": "stream",
          "text": "{'bangla', 2, 3, 4, 6, 'drawing', 'english', 'math'}\n"
        }
      ],
      "execution_count": 23
    },
    {
      "id": "d348a140-c87f-4c7d-8748-aa77cbc4e916",
      "cell_type": "code",
      "source": "sub.discard(2)\nprint(sub)",
      "metadata": {
        "trusted": true
      },
      "outputs": [
        {
          "name": "stdout",
          "output_type": "stream",
          "text": "{'bangla', 3, 4, 6, 'drawing', 'english', 'math'}\n"
        }
      ],
      "execution_count": 24
    },
    {
      "id": "27343e89-ff6a-403d-b7ab-0bfeb1a80c72",
      "cell_type": "code",
      "source": "x=sub.pop()\nprint(x)\n",
      "metadata": {
        "trusted": true
      },
      "outputs": [
        {
          "name": "stdout",
          "output_type": "stream",
          "text": "bangla\n"
        }
      ],
      "execution_count": 25
    },
    {
      "id": "3fab020d-38a5-4dcb-bf9c-e863c824fdb9",
      "cell_type": "code",
      "source": "print(sub)",
      "metadata": {
        "trusted": true
      },
      "outputs": [
        {
          "name": "stdout",
          "output_type": "stream",
          "text": "{3, 4, 6, 'drawing', 'english', 'math'}\n"
        }
      ],
      "execution_count": 26
    },
    {
      "id": "74e6de49-1217-4e5f-bd6f-a2f7ece6283d",
      "cell_type": "code",
      "source": "x=sub.push('CSE')\nprint(x)",
      "metadata": {
        "trusted": true
      },
      "outputs": [
        {
          "ename": "<class 'AttributeError'>",
          "evalue": "'set' object has no attribute 'push'",
          "traceback": [
            "\u001b[0;31m---------------------------------------------------------------------------\u001b[0m",
            "\u001b[0;31mAttributeError\u001b[0m                            Traceback (most recent call last)",
            "Cell \u001b[0;32mIn[27], line 1\u001b[0m\n\u001b[0;32m----> 1\u001b[0m x\u001b[38;5;241m=\u001b[39m\u001b[43msub\u001b[49m\u001b[38;5;241;43m.\u001b[39;49m\u001b[43mpush\u001b[49m(\u001b[38;5;124m'\u001b[39m\u001b[38;5;124mCSE\u001b[39m\u001b[38;5;124m'\u001b[39m)\n\u001b[1;32m      2\u001b[0m \u001b[38;5;28mprint\u001b[39m(x)\n",
            "\u001b[0;31mAttributeError\u001b[0m: 'set' object has no attribute 'push'"
          ],
          "output_type": "error"
        }
      ],
      "execution_count": 27
    },
    {
      "id": "4fb30e32-61bc-4eb4-bdc9-f6ab50de2667",
      "cell_type": "code",
      "source": "",
      "metadata": {
        "trusted": true
      },
      "outputs": [],
      "execution_count": null
    }
  ]
}