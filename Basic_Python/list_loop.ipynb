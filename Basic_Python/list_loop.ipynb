{
  "metadata": {
    "kernelspec": {
      "name": "python",
      "display_name": "Python (Pyodide)",
      "language": "python"
    },
    "language_info": {
      "codemirror_mode": {
        "name": "python",
        "version": 3
      },
      "file_extension": ".py",
      "mimetype": "text/x-python",
      "name": "python",
      "nbconvert_exporter": "python",
      "pygments_lexer": "ipython3",
      "version": "3.8"
    }
  },
  "nbformat_minor": 5,
  "nbformat": 4,
  "cells": [
    {
      "id": "1bed9389-46a3-487f-9d76-cf8231a5951a",
      "cell_type": "markdown",
      "source": "# loop lists",
      "metadata": {}
    },
    {
      "id": "99c5d4bf-11ee-4964-b932-0873c403faaf",
      "cell_type": "code",
      "source": "fruit=[\"banana\",\"orange\",\"apple\",\"jackfruit\"]\nprint(fruit)",
      "metadata": {
        "trusted": true
      },
      "outputs": [
        {
          "name": "stdout",
          "output_type": "stream",
          "text": "['banana', 'orange', 'apple', 'jackfruit']\n"
        }
      ],
      "execution_count": 1
    },
    {
      "id": "1311deb3-5c55-4ec1-9089-7955bb64c1a0",
      "cell_type": "code",
      "source": "for x in fruit:\n    print(x)",
      "metadata": {
        "trusted": true
      },
      "outputs": [
        {
          "name": "stdout",
          "output_type": "stream",
          "text": "banana\norange\napple\njackfruit\n"
        }
      ],
      "execution_count": 2
    },
    {
      "id": "b87e1883-85cc-474e-ac8a-6ecdbc2c893d",
      "cell_type": "code",
      "source": "for x in range(len(fruit)):\n    print(x)",
      "metadata": {
        "trusted": true
      },
      "outputs": [
        {
          "name": "stdout",
          "output_type": "stream",
          "text": "0\n1\n2\n3\n"
        }
      ],
      "execution_count": 4
    },
    {
      "id": "43e6274f-766b-4e40-9a87-22e5cad9b5cf",
      "cell_type": "code",
      "source": "for x in range(len(fruit)):\n    print(fruit[x])",
      "metadata": {
        "trusted": true
      },
      "outputs": [
        {
          "name": "stdout",
          "output_type": "stream",
          "text": "banana\norange\napple\njackfruit\n"
        }
      ],
      "execution_count": 5
    },
    {
      "id": "068ae0ef-49d2-4cd6-bfc2-1c30a09e4a0d",
      "cell_type": "code",
      "source": "fruit=[\"banana\",\"orange\",\"apple\",\"jackfruit\"]\ni=0\nwhile i < len(fruit):\n print(fruit[i])\n i=i+1",
      "metadata": {
        "trusted": true
      },
      "outputs": [
        {
          "name": "stdout",
          "output_type": "stream",
          "text": "banana\norange\napple\njackfruit\n"
        }
      ],
      "execution_count": 12
    },
    {
      "id": "2317b337-cf65-4be2-983c-58013da35176",
      "cell_type": "markdown",
      "source": "# sort list",
      "metadata": {}
    },
    {
      "id": "3e151987-4d46-4316-8bc6-05a7c65b0dc5",
      "cell_type": "code",
      "source": "fruit.sort()\nprint(fruit)",
      "metadata": {
        "trusted": true
      },
      "outputs": [
        {
          "name": "stdout",
          "output_type": "stream",
          "text": "['apple', 'banana', 'jackfruit', 'orange']\n"
        }
      ],
      "execution_count": 13
    },
    {
      "id": "84f67a01-7590-4270-9fdd-f9d7d854bde6",
      "cell_type": "code",
      "source": "num=[56,332,67,2,4,786,34]\nnum.sort()\nprint(num)",
      "metadata": {
        "trusted": true
      },
      "outputs": [
        {
          "name": "stdout",
          "output_type": "stream",
          "text": "[2, 4, 34, 56, 67, 332, 786]\n"
        }
      ],
      "execution_count": 14
    },
    {
      "id": "cefff86c-1142-4529-8255-1f31eeab1bd8",
      "cell_type": "code",
      "source": "fruit.sort(reverse=True)\nprint(fruit)",
      "metadata": {
        "trusted": true
      },
      "outputs": [
        {
          "name": "stdout",
          "output_type": "stream",
          "text": "['orange', 'jackfruit', 'banana', 'apple']\n"
        }
      ],
      "execution_count": 15
    },
    {
      "id": "6e386073-5ec1-4ceb-82aa-8af8684a9db8",
      "cell_type": "code",
      "source": "num.sort(reverse=True)\nprint(num)",
      "metadata": {
        "trusted": true
      },
      "outputs": [
        {
          "name": "stdout",
          "output_type": "stream",
          "text": "[786, 332, 67, 56, 34, 4, 2]\n"
        }
      ],
      "execution_count": 16
    },
    {
      "id": "d0e998a6-75ba-4743-8811-576dee553cfb",
      "cell_type": "code",
      "source": "i=50\nj=60\nfor x in range(i, j):\n    print(x)\n",
      "metadata": {
        "trusted": true
      },
      "outputs": [
        {
          "name": "stdout",
          "output_type": "stream",
          "text": "50\n51\n52\n53\n54\n55\n56\n57\n58\n59\n"
        }
      ],
      "execution_count": 24
    },
    {
      "id": "63db01f0-ccf4-43c8-a8d6-4dfbf5f92ad4",
      "cell_type": "code",
      "source": "fruit.sort(key=str.upper)\nprint(fruit)",
      "metadata": {
        "trusted": true
      },
      "outputs": [
        {
          "name": "stdout",
          "output_type": "stream",
          "text": "['apple', 'banana', 'jackfruit', 'orange']\n"
        }
      ],
      "execution_count": 25
    },
    {
      "id": "0483c1f4-1c4a-4df8-af10-650677dfdac6",
      "cell_type": "code",
      "source": "fruit.sort(reverse=True)\nprint(fruit)",
      "metadata": {
        "trusted": true
      },
      "outputs": [],
      "execution_count": null
    }
  ]
}