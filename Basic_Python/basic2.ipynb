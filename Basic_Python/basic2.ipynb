{
  "metadata": {
    "kernelspec": {
      "name": "python",
      "display_name": "Python (Pyodide)",
      "language": "python"
    },
    "language_info": {
      "codemirror_mode": {
        "name": "python",
        "version": 3
      },
      "file_extension": ".py",
      "mimetype": "text/x-python",
      "name": "python",
      "nbconvert_exporter": "python",
      "pygments_lexer": "ipython3",
      "version": "3.8"
    }
  },
  "nbformat_minor": 5,
  "nbformat": 4,
  "cells": [
    {
      "id": "1d0b1db2-a14e-4ae1-abbc-6869d3a31ba5",
      "cell_type": "markdown",
      "source": "# Python Numbers\n\n# int\nx = 10          # Integer type\n\n# float\ny = 3.14        # Floating-point type\n\n# complex\nz = 2 + 3j      # Complex number type\n\n",
      "metadata": {}
    },
    {
      "id": "577f69f8-11a6-41e9-8674-139393d152cd",
      "cell_type": "code",
      "source": "x=10\ny=3.14\nz=2+3j\n\nprint(type(x))",
      "metadata": {
        "trusted": true
      },
      "outputs": [
        {
          "name": "stdout",
          "output_type": "stream",
          "text": "<class 'int'>\n"
        }
      ],
      "execution_count": 1
    },
    {
      "id": "0ce9be2f-a3ac-4e2e-a770-ef52e4c86067",
      "cell_type": "code",
      "source": "print(type(y))\nprint (type(z))",
      "metadata": {
        "trusted": true
      },
      "outputs": [
        {
          "name": "stdout",
          "output_type": "stream",
          "text": "<class 'float'>\n<class 'complex'>\n"
        }
      ],
      "execution_count": 2
    },
    {
      "id": "3d74b231-085b-4e2c-9bde-81cfc134cc71",
      "cell_type": "code",
      "source": "x=-76547674\nprint (type(x))",
      "metadata": {
        "trusted": true
      },
      "outputs": [
        {
          "name": "stdout",
          "output_type": "stream",
          "text": "<class 'int'>\n"
        }
      ],
      "execution_count": 3
    },
    {
      "id": "c710dacb-4c3f-4e36-b603-d48742610311",
      "cell_type": "code",
      "source": "x=0.56476\nprint (type(x))",
      "metadata": {
        "trusted": true
      },
      "outputs": [
        {
          "name": "stdout",
          "output_type": "stream",
          "text": "<class 'float'>\n"
        }
      ],
      "execution_count": 4
    },
    {
      "id": "55d43a02-802a-4d0d-aaa3-70600ffa8700",
      "cell_type": "markdown",
      "source": "# python casting-specify a variable type",
      "metadata": {}
    },
    {
      "id": "60b28a3f-9303-4ff2-b482-22df4af3dcf6",
      "cell_type": "code",
      "source": "a=int(5.00)\nb=int(\"9\")\nprint(a)",
      "metadata": {
        "trusted": true
      },
      "outputs": [
        {
          "name": "stdout",
          "output_type": "stream",
          "text": "5\n"
        }
      ],
      "execution_count": 3
    },
    {
      "id": "0f6d51d0-96d7-4ef1-a812-aae499acadc4",
      "cell_type": "code",
      "source": "print(b)",
      "metadata": {
        "trusted": true
      },
      "outputs": [
        {
          "name": "stdout",
          "output_type": "stream",
          "text": "9\n"
        }
      ],
      "execution_count": 4
    },
    {
      "id": "1de6001d-e34f-446b-a6f3-6180b70015c9",
      "cell_type": "code",
      "source": "a=str(3)\nprint(a)",
      "metadata": {
        "trusted": true
      },
      "outputs": [
        {
          "name": "stdout",
          "output_type": "stream",
          "text": "3\n"
        }
      ],
      "execution_count": 5
    },
    {
      "id": "ed4533f9-30a9-494d-8ba9-06016324545b",
      "cell_type": "code",
      "source": "a=float(5)\nb=float(\"9\")\nprint(a)\nprint(b)",
      "metadata": {
        "trusted": true
      },
      "outputs": [
        {
          "name": "stdout",
          "output_type": "stream",
          "text": "5.0\n9.0\n"
        }
      ],
      "execution_count": 6
    },
    {
      "id": "1acc6c14-8a0a-4419-87dc-72d3e5c11d41",
      "cell_type": "markdown",
      "source": "# python String",
      "metadata": {}
    },
    {
      "id": "cd254ac5-c4b2-4319-a881-f8177cb642f8",
      "cell_type": "code",
      "source": "print(\"Faria Jahan Janie\")",
      "metadata": {
        "trusted": true
      },
      "outputs": [
        {
          "name": "stdout",
          "output_type": "stream",
          "text": "Faria Jahan Janie\n"
        }
      ],
      "execution_count": 7
    },
    {
      "id": "b810772f-052a-4c6b-b14c-26d5392202d3",
      "cell_type": "code",
      "source": "print('Faria Jahan Janie')",
      "metadata": {
        "trusted": true
      },
      "outputs": [
        {
          "name": "stdout",
          "output_type": "stream",
          "text": "Faria Jahan Janie\n"
        }
      ],
      "execution_count": 8
    }
  ]
}