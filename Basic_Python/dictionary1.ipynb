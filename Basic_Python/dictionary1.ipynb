{
  "metadata": {
    "kernelspec": {
      "name": "python",
      "display_name": "Python (Pyodide)",
      "language": "python"
    },
    "language_info": {
      "codemirror_mode": {
        "name": "python",
        "version": 3
      },
      "file_extension": ".py",
      "mimetype": "text/x-python",
      "name": "python",
      "nbconvert_exporter": "python",
      "pygments_lexer": "ipython3",
      "version": "3.8"
    }
  },
  "nbformat_minor": 5,
  "nbformat": 4,
  "cells": [
    {
      "id": "cf9137f9-cef2-4014-8073-a66712151d85",
      "cell_type": "markdown",
      "source": "### Python Dictionaries",
      "metadata": {}
    },
    {
      "id": "37cd8b7c-e31b-48c1-b1e6-9b282089251f",
      "cell_type": "code",
      "source": "about={\n    'name' : 'Janie',\n    'ID' : 551,\n    'course' : 'CSE'\n}\nprint(about)",
      "metadata": {
        "trusted": true
      },
      "outputs": [
        {
          "name": "stdout",
          "output_type": "stream",
          "text": "{'name': 'Janie', 'ID': 551, 'course': 'CSE'}\n"
        }
      ],
      "execution_count": 2
    },
    {
      "id": "7220c814-ea54-41b1-a734-01619bba203d",
      "cell_type": "code",
      "source": "print(about['ID'])",
      "metadata": {
        "trusted": true
      },
      "outputs": [
        {
          "name": "stdout",
          "output_type": "stream",
          "text": "551\n"
        }
      ],
      "execution_count": 5
    },
    {
      "id": "1831bc8a-18be-4e95-9eb5-178a365fae7b",
      "cell_type": "markdown",
      "source": "- Duplicate values will overwrite existing values:",
      "metadata": {}
    },
    {
      "id": "885de675-6c87-43c9-950c-0e70e318897a",
      "cell_type": "code",
      "source": "about={\n    'name' : 'Janie',\n    'ID' : 551,\n    'ID' : 5551,\n    'course' : 'CSE'\n}\nprint(about)",
      "metadata": {
        "trusted": true
      },
      "outputs": [
        {
          "name": "stdout",
          "output_type": "stream",
          "text": "{'name': 'Janie', 'ID': 5551, 'course': 'CSE'}\n"
        }
      ],
      "execution_count": 6
    },
    {
      "id": "2d8eb1a1-1a72-4630-af55-40cd89b50fc6",
      "cell_type": "markdown",
      "source": "- Dictionary length",
      "metadata": {}
    },
    {
      "id": "f614c4c9-4504-40e4-950c-0b3a5d99e452",
      "cell_type": "code",
      "source": "print(len(about))",
      "metadata": {
        "trusted": true
      },
      "outputs": [
        {
          "name": "stdout",
          "output_type": "stream",
          "text": "3\n"
        }
      ],
      "execution_count": 7
    },
    {
      "id": "3d615246-93c5-480a-935b-e107d80574b5",
      "cell_type": "code",
      "source": "about={\n    'name' : 'Janie',\n    'ID' : 551,\n    'sub' :['oop','spl','sad'],\n    'course' : 'CSE'\n}\nprint(about)",
      "metadata": {
        "trusted": true
      },
      "outputs": [
        {
          "name": "stdout",
          "output_type": "stream",
          "text": "{'name': 'Janie', 'ID': 551, 'sub': ['oop', 'spl', 'sad'], 'course': 'CSE'}\n"
        }
      ],
      "execution_count": 9
    },
    {
      "id": "6ad25c17-7b0c-4648-984f-7884c5747fb5",
      "cell_type": "markdown",
      "source": "### The dict() Constructor\n- It is also possible to use the dict() constructor to make a dictionary.",
      "metadata": {}
    },
    {
      "id": "894dedf7-b5de-4cf5-adc5-00e6c839a30d",
      "cell_type": "code",
      "source": "about={\n    'name' : 'Janie',\n    'ID' : 551,\n    'sub' :['oop','spl','sad'],\n    'course' : 'CSE'\n}\nprint(type(about))",
      "metadata": {
        "trusted": true
      },
      "outputs": [
        {
          "name": "stdout",
          "output_type": "stream",
          "text": "<class 'dict'>\n"
        }
      ],
      "execution_count": 10
    },
    {
      "id": "958efa19-bb20-4dfc-a316-83974817a0e2",
      "cell_type": "code",
      "source": "about=dict(name=\"Faria\",friend=\"Richi\",age=24,country=\"Bangladesh\")\nprint(about)\n    ",
      "metadata": {
        "trusted": true
      },
      "outputs": [
        {
          "name": "stdout",
          "output_type": "stream",
          "text": "{'name': 'Faria', 'friend': 'Richi', 'age': 24, 'country': 'Bangladesh'}\n"
        }
      ],
      "execution_count": 16
    },
    {
      "id": "567fcd6f-0630-4586-8115-b063e62d93ec",
      "cell_type": "markdown",
      "source": "- access items",
      "metadata": {}
    },
    {
      "id": "7017e643-5445-4ecc-ba4e-56d4a9eb2671",
      "cell_type": "code",
      "source": "about={\n    'name' : 'Janie',\n    'ID' : 551,\n    'sub' :['oop','spl','sad'],\n    'course' : 'CSE'\n}\nprint(about['sub'])",
      "metadata": {
        "trusted": true
      },
      "outputs": [
        {
          "name": "stdout",
          "output_type": "stream",
          "text": "['oop', 'spl', 'sad']\n"
        }
      ],
      "execution_count": 18
    },
    {
      "id": "8243ef2c-6244-47c6-918a-bfbedd6cd9b2",
      "cell_type": "markdown",
      "source": "- There is also a method called get() that will give you the same result:",
      "metadata": {}
    },
    {
      "id": "71505531-060c-451a-ae36-8dcf35787e35",
      "cell_type": "code",
      "source": "print(about.get('name'))",
      "metadata": {
        "trusted": true
      },
      "outputs": [
        {
          "name": "stdout",
          "output_type": "stream",
          "text": "Janie\n"
        }
      ],
      "execution_count": 20
    },
    {
      "id": "9563a345-89d2-42de-af2f-316e6226995b",
      "cell_type": "code",
      "source": "print(about.keys())",
      "metadata": {
        "trusted": true
      },
      "outputs": [
        {
          "name": "stdout",
          "output_type": "stream",
          "text": "dict_keys(['name', 'ID', 'sub', 'course'])\n"
        }
      ],
      "execution_count": 22
    },
    {
      "id": "0c0bc783-f334-4e67-8f90-5b934ae18035",
      "cell_type": "code",
      "source": "about={\n    'name' : 'Janie',\n    'ID' : 551,\n    'sub' :['oop','spl','sad'],\n    'course' : 'CSE'\n}\nprint(about.keys())",
      "metadata": {
        "trusted": true
      },
      "outputs": [
        {
          "name": "stdout",
          "output_type": "stream",
          "text": "dict_keys(['name', 'ID', 'sub', 'course'])\n"
        }
      ],
      "execution_count": 24
    },
    {
      "id": "515bfdfb-d94b-4fce-bc48-09dd319cb3a4",
      "cell_type": "code",
      "source": "about['varsity']='PCIU'\nprint(about)",
      "metadata": {
        "trusted": true
      },
      "outputs": [
        {
          "name": "stdout",
          "output_type": "stream",
          "text": "{'name': 'Janie', 'ID': 551, 'sub': ['oop', 'spl', 'sad'], 'course': 'CSE', 'varsity': 'PCIU'}\n"
        }
      ],
      "execution_count": 25
    },
    {
      "id": "18e89852-2dac-4007-8687-002f1c0ad1b8",
      "cell_type": "code",
      "source": "print(about.values())",
      "metadata": {
        "trusted": true
      },
      "outputs": [
        {
          "name": "stdout",
          "output_type": "stream",
          "text": "dict_values(['Janie', 551, ['oop', 'spl', 'sad'], 'CSE', 'PCIU'])\n"
        }
      ],
      "execution_count": 26
    },
    {
      "id": "b5d7b01f-2491-4242-b518-fd8ecd365769",
      "cell_type": "code",
      "source": "about['year']=2025\nprint(about)",
      "metadata": {
        "trusted": true
      },
      "outputs": [
        {
          "name": "stdout",
          "output_type": "stream",
          "text": "{'name': 'Janie', 'ID': 551, 'sub': ['oop', 'spl', 'sad'], 'course': 'CSE', 'varsity': 'PCIU', 'year': 2025}\n"
        }
      ],
      "execution_count": 28
    },
    {
      "id": "62b44106-1649-47fa-af20-03ab8e8c14a3",
      "cell_type": "code",
      "source": "",
      "metadata": {
        "trusted": true
      },
      "outputs": [],
      "execution_count": null
    }
  ]
}