{
  "metadata": {
    "kernelspec": {
      "name": "python",
      "display_name": "Python (Pyodide)",
      "language": "python"
    },
    "language_info": {
      "codemirror_mode": {
        "name": "python",
        "version": 3
      },
      "file_extension": ".py",
      "mimetype": "text/x-python",
      "name": "python",
      "nbconvert_exporter": "python",
      "pygments_lexer": "ipython3",
      "version": "3.8"
    }
  },
  "nbformat_minor": 5,
  "nbformat": 4,
  "cells": [
    {
      "id": "1f21bfa3-df3c-4a9b-b085-49f92d68ba82",
      "cell_type": "markdown",
      "source": "# list in python\n### List is a collection which is ordered and changeable. Allows duplicate members.",
      "metadata": {}
    },
    {
      "id": "12618cd7-5094-4c11-ab1f-674b9a7a0ea2",
      "cell_type": "code",
      "source": "list=[\"Apple\",\"Banana\",\"Mango\",\"Lichi\"]\nprint(list)",
      "metadata": {
        "trusted": true
      },
      "outputs": [
        {
          "name": "stdout",
          "output_type": "stream",
          "text": "['Apple', 'Banana', 'Mango', 'Lichi']\n"
        }
      ],
      "execution_count": 3
    },
    {
      "id": "738ba1b9-5db3-4050-8fda-fd5c824cf572",
      "cell_type": "code",
      "source": "print(len(list))",
      "metadata": {
        "trusted": true
      },
      "outputs": [
        {
          "name": "stdout",
          "output_type": "stream",
          "text": "4\n"
        }
      ],
      "execution_count": 4
    },
    {
      "id": "43f74fad-eb5b-4a34-8a09-8452da552e69",
      "cell_type": "code",
      "source": "print(type(list))",
      "metadata": {
        "trusted": true
      },
      "outputs": [
        {
          "name": "stdout",
          "output_type": "stream",
          "text": "<class 'list'>\n"
        }
      ],
      "execution_count": 5
    },
    {
      "id": "0b6215d5-f074-4bab-8aff-45f9407e534e",
      "cell_type": "markdown",
      "source": "# Acces list items",
      "metadata": {}
    },
    {
      "id": "719fa45f-501f-4c64-9763-c49516687d23",
      "cell_type": "code",
      "source": "friends=[\"janie\",\"antor\",\"shihab\",\"anika\",\"suprio\",\"israt\"]\nprint(friends)",
      "metadata": {
        "trusted": true
      },
      "outputs": [
        {
          "name": "stdout",
          "output_type": "stream",
          "text": "['janie', 'antor', 'shihab', 'anika', 'suprio', 'israt']\n"
        }
      ],
      "execution_count": 6
    },
    {
      "id": "40878cf1-5881-4e80-96df-f12b7871fb2d",
      "cell_type": "code",
      "source": "print(friends[4])\nprint(friends[0])",
      "metadata": {
        "trusted": true
      },
      "outputs": [
        {
          "name": "stdout",
          "output_type": "stream",
          "text": "suprio\njanie\n"
        }
      ],
      "execution_count": 8
    },
    {
      "id": "33937e68-c335-4a5b-bf4d-79d4fdcf028f",
      "cell_type": "code",
      "source": "print(friends[-1])",
      "metadata": {
        "trusted": true
      },
      "outputs": [
        {
          "name": "stdout",
          "output_type": "stream",
          "text": "israt\n"
        }
      ],
      "execution_count": 9
    },
    {
      "id": "af265178-82ca-492a-be1c-0c6002531324",
      "cell_type": "code",
      "source": "print(friends[-5])",
      "metadata": {
        "trusted": true
      },
      "outputs": [
        {
          "name": "stdout",
          "output_type": "stream",
          "text": "antor\n"
        }
      ],
      "execution_count": 10
    },
    {
      "id": "b5f0438a-edd9-4a16-bd34-9ac631c06be1",
      "cell_type": "code",
      "source": "print(friends[:2])",
      "metadata": {
        "trusted": true
      },
      "outputs": [
        {
          "name": "stdout",
          "output_type": "stream",
          "text": "['janie', 'antor']\n"
        }
      ],
      "execution_count": 12
    },
    {
      "id": "7475402d-4a61-4448-9782-f4b0472ca636",
      "cell_type": "code",
      "source": "print(friends[-4:-2])",
      "metadata": {
        "trusted": true
      },
      "outputs": [
        {
          "name": "stdout",
          "output_type": "stream",
          "text": "['shihab', 'anika']\n"
        }
      ],
      "execution_count": 13
    },
    {
      "id": "2111885e-094e-4235-b330-6dfa3460b8b5",
      "cell_type": "code",
      "source": "if \"janie\" in friends:\n    print(\"YES, Good friend\")",
      "metadata": {
        "trusted": true
      },
      "outputs": [
        {
          "name": "stdout",
          "output_type": "stream",
          "text": "YES, Good friend\n"
        }
      ],
      "execution_count": 14
    },
    {
      "id": "098835c6-ac94-467f-9351-7590d6a3225b",
      "cell_type": "markdown",
      "source": "# Change List Items",
      "metadata": {}
    },
    {
      "id": "6815461b-759f-4640-bbc8-4102cd9e3a88",
      "cell_type": "code",
      "source": "friends[0]=\"Richmond\"\nprint(friends)",
      "metadata": {
        "trusted": true
      },
      "outputs": [
        {
          "name": "stdout",
          "output_type": "stream",
          "text": "['Richmond', 'antor', 'shihab', 'anika', 'suprio', 'israt']\n"
        }
      ],
      "execution_count": 15
    },
    {
      "id": "7d1d2782-555a-426b-8aeb-e307fe7ef26b",
      "cell_type": "code",
      "source": "thislist = [\"apple\", \"banana\", \"cherry\", \"orange\", \"kiwi\", \"mango\"]\n\nthislist[1:1] = [\"blackcurrant\", \"watermelon\"]\n\nprint(thislist)\n",
      "metadata": {
        "trusted": true
      },
      "outputs": [
        {
          "name": "stdout",
          "output_type": "stream",
          "text": "['apple', 'blackcurrant', 'watermelon', 'banana', 'cherry', 'orange', 'kiwi', 'mango']\n"
        }
      ],
      "execution_count": 18
    },
    {
      "id": "146d2813-af0e-43a2-a19a-7404f95e868c",
      "cell_type": "code",
      "source": "friends=[\"janie\",\"antor\",\"shihab\",\"anika\",\"suprio\",\"israt\"]\nfriends.insert(0,\"janie\")\nprint(friends)",
      "metadata": {
        "trusted": true
      },
      "outputs": [
        {
          "name": "stdout",
          "output_type": "stream",
          "text": "['janie', 'janie', 'antor', 'shihab', 'anika', 'suprio', 'israt']\n"
        }
      ],
      "execution_count": 26
    },
    {
      "id": "3fdbded3-9eee-47cf-868f-405422f6db8b",
      "cell_type": "code",
      "source": "p=[\"elepant\",\"crocodile\",\"horse\"]\nq=[\"apple\",\"rose\",\"orange\"]\nq.append(\"dragon\")\nprint(q)",
      "metadata": {
        "trusted": true
      },
      "outputs": [
        {
          "name": "stdout",
          "output_type": "stream",
          "text": "['apple', 'rose', 'orange', 'dragon']\n"
        }
      ],
      "execution_count": 27
    },
    {
      "id": "0b4731a0-60ef-4ccf-826a-177f70cc253e",
      "cell_type": "code",
      "source": "p.extend(q)\nprint(p)",
      "metadata": {
        "trusted": true
      },
      "outputs": [
        {
          "name": "stdout",
          "output_type": "stream",
          "text": "['elepant', 'crocodile', 'horse', 'apple', 'rose', 'orange', 'dragon']\n"
        }
      ],
      "execution_count": 30
    },
    {
      "id": "9fc8a30b-b9ed-476a-bef9-6b78eacdaf29",
      "cell_type": "code",
      "source": "q.extend(p)\nprint(q)",
      "metadata": {
        "trusted": true
      },
      "outputs": [
        {
          "name": "stdout",
          "output_type": "stream",
          "text": "['apple', 'rose', 'orange', 'dragon', 'elepant', 'crocodile', 'horse', 'apple', 'rose', 'orange', 'dragon']\n"
        }
      ],
      "execution_count": 31
    },
    {
      "id": "6b5448da-b844-4673-b960-2bc6f175873d",
      "cell_type": "markdown",
      "source": "# Remove Specified Item",
      "metadata": {}
    },
    {
      "id": "9ec042b8-927c-4b81-8db7-f428ff9fb926",
      "cell_type": "code",
      "source": "p.remove(\"crocodile\")\nprint(p)",
      "metadata": {
        "trusted": true
      },
      "outputs": [
        {
          "name": "stdout",
          "output_type": "stream",
          "text": "['elepant', 'horse', 'apple', 'rose', 'orange', 'dragon']\n"
        }
      ],
      "execution_count": 33
    },
    {
      "id": "36d6f36b-8d48-4a29-bcfd-72a92fe11289",
      "cell_type": "code",
      "source": "p.pop(1)\nprint(p)",
      "metadata": {
        "trusted": true
      },
      "outputs": [
        {
          "name": "stdout",
          "output_type": "stream",
          "text": "['elepant', 'apple', 'rose', 'orange', 'dragon']\n"
        }
      ],
      "execution_count": 36
    },
    {
      "id": "c29596c7-054f-4625-8f13-17f6d2fe427a",
      "cell_type": "code",
      "source": "print(q)",
      "metadata": {
        "trusted": true
      },
      "outputs": [
        {
          "name": "stdout",
          "output_type": "stream",
          "text": "['apple', 'rose', 'orange', 'dragon', 'elepant', 'crocodile', 'horse', 'apple', 'rose', 'orange', 'dragon']\n"
        }
      ],
      "execution_count": 37
    },
    {
      "id": "869dc40d-cab3-4f26-88e9-fec4910ecefb",
      "cell_type": "code",
      "source": "del q[0]\nprint(q)\n",
      "metadata": {
        "trusted": true
      },
      "outputs": [
        {
          "name": "stdout",
          "output_type": "stream",
          "text": "['rose', 'orange', 'dragon', 'elepant', 'crocodile', 'horse', 'apple', 'rose', 'orange', 'dragon']\n"
        }
      ],
      "execution_count": 38
    },
    {
      "id": "589d193d-c931-4f74-a838-d0c204ac31e0",
      "cell_type": "code",
      "source": "q1=[\"JANIE\"]\nq1.clear()\nprint(q1)",
      "metadata": {
        "trusted": true
      },
      "outputs": [
        {
          "name": "stdout",
          "output_type": "stream",
          "text": "[]\n"
        }
      ],
      "execution_count": 41
    },
    {
      "id": "326d6dc7-5d90-40d6-b97a-6ac61f16783e",
      "cell_type": "code",
      "source": "",
      "metadata": {
        "trusted": true
      },
      "outputs": [],
      "execution_count": null
    }
  ]
}