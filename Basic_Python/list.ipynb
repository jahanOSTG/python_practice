{
  "metadata": {
    "kernelspec": {
      "name": "python",
      "display_name": "Python (Pyodide)",
      "language": "python"
    },
    "language_info": {
      "codemirror_mode": {
        "name": "python",
        "version": 3
      },
      "file_extension": ".py",
      "mimetype": "text/x-python",
      "name": "python",
      "nbconvert_exporter": "python",
      "pygments_lexer": "ipython3",
      "version": "3.8"
    }
  },
  "nbformat_minor": 5,
  "nbformat": 4,
  "cells": [
    {
      "id": "1f21bfa3-df3c-4a9b-b085-49f92d68ba82",
      "cell_type": "markdown",
      "source": "# list in python\n### List is a collection which is ordered and changeable. Allows duplicate members.",
      "metadata": {}
    },
    {
      "id": "12618cd7-5094-4c11-ab1f-674b9a7a0ea2",
      "cell_type": "code",
      "source": "list=[\"Apple\",\"Banana\",\"Mango\",\"Lichi\"]\nprint(list)",
      "metadata": {
        "trusted": true
      },
      "outputs": [
        {
          "name": "stdout",
          "output_type": "stream",
          "text": "['Apple', 'Banana', 'Mango', 'Lichi']\n"
        }
      ],
      "execution_count": 3
    },
    {
      "id": "738ba1b9-5db3-4050-8fda-fd5c824cf572",
      "cell_type": "code",
      "source": "print(len(list))",
      "metadata": {
        "trusted": true
      },
      "outputs": [
        {
          "name": "stdout",
          "output_type": "stream",
          "text": "4\n"
        }
      ],
      "execution_count": 4
    },
    {
      "id": "43f74fad-eb5b-4a34-8a09-8452da552e69",
      "cell_type": "code",
      "source": "print(type(list))",
      "metadata": {
        "trusted": true
      },
      "outputs": [
        {
          "name": "stdout",
          "output_type": "stream",
          "text": "<class 'list'>\n"
        }
      ],
      "execution_count": 5
    },
    {
      "id": "0b6215d5-f074-4bab-8aff-45f9407e534e",
      "cell_type": "markdown",
      "source": "# Acces list items",
      "metadata": {}
    },
    {
      "id": "719fa45f-501f-4c64-9763-c49516687d23",
      "cell_type": "code",
      "source": "friends=[\"janie\",\"antor\",\"shihab\",\"anika\",\"suprio\",\"israt\"]\nprint(friends)",
      "metadata": {
        "trusted": true
      },
      "outputs": [
        {
          "name": "stdout",
          "output_type": "stream",
          "text": "['janie', 'antor', 'shihab', 'anika', 'suprio', 'israt']\n"
        }
      ],
      "execution_count": 6
    },
    {
      "id": "40878cf1-5881-4e80-96df-f12b7871fb2d",
      "cell_type": "code",
      "source": "print(friends[4])\nprint(friends[0])",
      "metadata": {
        "trusted": true
      },
      "outputs": [
        {
          "name": "stdout",
          "output_type": "stream",
          "text": "suprio\njanie\n"
        }
      ],
      "execution_count": 8
    },
    {
      "id": "33937e68-c335-4a5b-bf4d-79d4fdcf028f",
      "cell_type": "code",
      "source": "print(friends[-1])",
      "metadata": {
        "trusted": true
      },
      "outputs": [
        {
          "name": "stdout",
          "output_type": "stream",
          "text": "israt\n"
        }
      ],
      "execution_count": 9
    },
    {
      "id": "af265178-82ca-492a-be1c-0c6002531324",
      "cell_type": "code",
      "source": "print(friends[-5])",
      "metadata": {
        "trusted": true
      },
      "outputs": [
        {
          "name": "stdout",
          "output_type": "stream",
          "text": "antor\n"
        }
      ],
      "execution_count": 10
    },
    {
      "id": "b5f0438a-edd9-4a16-bd34-9ac631c06be1",
      "cell_type": "code",
      "source": "print(friends[:2])",
      "metadata": {
        "trusted": true
      },
      "outputs": [
        {
          "name": "stdout",
          "output_type": "stream",
          "text": "['janie', 'antor']\n"
        }
      ],
      "execution_count": 12
    },
    {
      "id": "7475402d-4a61-4448-9782-f4b0472ca636",
      "cell_type": "code",
      "source": "print(friends[-4:-2])",
      "metadata": {
        "trusted": true
      },
      "outputs": [
        {
          "name": "stdout",
          "output_type": "stream",
          "text": "['shihab', 'anika']\n"
        }
      ],
      "execution_count": 13
    },
    {
      "id": "2111885e-094e-4235-b330-6dfa3460b8b5",
      "cell_type": "code",
      "source": "if \"janie\" in friends:\n    print(\"YES, Good friend\")",
      "metadata": {
        "trusted": true
      },
      "outputs": [
        {
          "name": "stdout",
          "output_type": "stream",
          "text": "YES, Good friend\n"
        }
      ],
      "execution_count": 14
    },
    {
      "id": "e8b8905c-3452-4890-bb10-10d103386a2b",
      "cell_type": "code",
      "source": "",
      "metadata": {
        "trusted": true
      },
      "outputs": [],
      "execution_count": null
    }
  ]
}