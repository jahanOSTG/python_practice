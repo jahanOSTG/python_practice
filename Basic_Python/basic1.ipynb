{
  "metadata": {
    "kernelspec": {
      "name": "python",
      "display_name": "Python (Pyodide)",
      "language": "python"
    },
    "language_info": {
      "codemirror_mode": {
        "name": "python",
        "version": 3
      },
      "file_extension": ".py",
      "mimetype": "text/x-python",
      "name": "python",
      "nbconvert_exporter": "python",
      "pygments_lexer": "ipython3",
      "version": "3.8"
    }
  },
  "nbformat_minor": 5,
  "nbformat": 4,
  "cells": [
    {
      "id": "f1b78539-f623-479e-a758-cfbc7f0bda76",
      "cell_type": "code",
      "source": "# Python Basic\n",
      "metadata": {
        "trusted": true
      },
      "outputs": [],
      "execution_count": 1
    },
    {
      "id": "33c14f08-7021-43a9-b9b2-989cc8943cfb",
      "cell_type": "code",
      "source": "print(\"Faria Janie\")",
      "metadata": {
        "trusted": true
      },
      "outputs": [
        {
          "name": "stdout",
          "output_type": "stream",
          "text": "Faria Janie\n"
        }
      ],
      "execution_count": 2
    },
    {
      "id": "b1247f5b-46ac-4fbd-aa5c-da3634cadad3",
      "cell_type": "code",
      "source": "# multiple values\n",
      "metadata": {
        "trusted": true
      },
      "outputs": [],
      "execution_count": 3
    },
    {
      "id": "e17e2cfe-ed99-4a48-9c95-391f32f46076",
      "cell_type": "code",
      "source": "x,y,z = \"Apple\", \"Orange\",\"Lichi\"\nprint(x,y,z)",
      "metadata": {
        "trusted": true
      },
      "outputs": [
        {
          "name": "stdout",
          "output_type": "stream",
          "text": "Apple Orange Lichi\n"
        }
      ],
      "execution_count": 4
    },
    {
      "id": "15932256-f951-4b4a-9adb-e822fa950d78",
      "cell_type": "code",
      "source": "x=5\ny='Janie'\nz=100\nprint(z,y,x)",
      "metadata": {
        "trusted": true
      },
      "outputs": [
        {
          "name": "stdout",
          "output_type": "stream",
          "text": "100 Janie 5\n"
        }
      ],
      "execution_count": 5
    },
    {
      "id": "c7e0d2bf-5130-43ab-8d7f-65505983614a",
      "cell_type": "code",
      "source": "a=5\nb=9\nc=7\nprint(a*b)",
      "metadata": {
        "trusted": true
      },
      "outputs": [
        {
          "name": "stdout",
          "output_type": "stream",
          "text": "45\n"
        }
      ],
      "execution_count": 9
    },
    {
      "id": "80258cfb-465b-4528-b049-9101ea116166",
      "cell_type": "code",
      "source": "a*b",
      "metadata": {
        "trusted": true
      },
      "outputs": [
        {
          "execution_count": 10,
          "output_type": "execute_result",
          "data": {
            "text/plain": "45"
          },
          "metadata": {}
        }
      ],
      "execution_count": 10
    },
    {
      "id": "43bf532e-cca8-4206-8fa5-b54f31a890f0",
      "cell_type": "code",
      "source": "a+b",
      "metadata": {
        "trusted": true
      },
      "outputs": [
        {
          "execution_count": 11,
          "output_type": "execute_result",
          "data": {
            "text/plain": "14"
          },
          "metadata": {}
        }
      ],
      "execution_count": 11
    },
    {
      "id": "834a6f9a-f958-481e-a21b-67d7c429a5d6",
      "cell_type": "code",
      "source": "a+b+c",
      "metadata": {
        "trusted": true
      },
      "outputs": [
        {
          "execution_count": 12,
          "output_type": "execute_result",
          "data": {
            "text/plain": "21"
          },
          "metadata": {}
        }
      ],
      "execution_count": 12
    },
    {
      "id": "4000d512-cf97-4477-a50e-a0ed0ad31951",
      "cell_type": "code",
      "source": "#global Varible\na=\"Janie\"\ndef name():\n    print(\"My name is \" +a)\n\nname()",
      "metadata": {
        "trusted": true
      },
      "outputs": [
        {
          "name": "stdout",
          "output_type": "stream",
          "text": "My name is Janie\n"
        }
      ],
      "execution_count": 14
    },
    {
      "id": "11360c0f-94df-4b95-8fe8-589b494dee27",
      "cell_type": "code",
      "source": "a = \"Janie\"\n\ndef name():\n    a = \"Faria\"\n    print(\"My name is \" + a)\n\nname()\nprint(\"My name is \" + a) ",
      "metadata": {
        "trusted": true
      },
      "outputs": [
        {
          "name": "stdout",
          "output_type": "stream",
          "text": "My name is Faria\nMy name is Janie\n"
        }
      ],
      "execution_count": 18
    },
    {
      "id": "0b23ab07-36fc-4ddc-a06b-35edabace547",
      "cell_type": "code",
      "source": "",
      "metadata": {
        "trusted": true
      },
      "outputs": [],
      "execution_count": null
    }
  ]
}