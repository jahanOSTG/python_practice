{
  "metadata": {
    "kernelspec": {
      "name": "python",
      "display_name": "Python (Pyodide)",
      "language": "python"
    },
    "language_info": {
      "codemirror_mode": {
        "name": "python",
        "version": 3
      },
      "file_extension": ".py",
      "mimetype": "text/x-python",
      "name": "python",
      "nbconvert_exporter": "python",
      "pygments_lexer": "ipython3",
      "version": "3.8"
    }
  },
  "nbformat_minor": 5,
  "nbformat": 4,
  "cells": [
    {
      "id": "6899445e-648b-499f-8002-125cef70aeff",
      "cell_type": "markdown",
      "source": "### Union\n- The union() method returns a new set with all items from both sets.",
      "metadata": {}
    },
    {
      "id": "f1b2f842-774a-4046-9a69-28474b560b89",
      "cell_type": "code",
      "source": "set1={'janie','antor','shihab'}\nset2={1,5,7,3,4}\nset3=set1.union(set2)\nset3",
      "metadata": {
        "trusted": true
      },
      "outputs": [
        {
          "execution_count": 1,
          "output_type": "execute_result",
          "data": {
            "text/plain": "{1, 3, 4, 5, 7, 'antor', 'janie', 'shihab'}"
          },
          "metadata": {}
        }
      ],
      "execution_count": 1
    },
    {
      "id": "ef106c32-aca3-4315-8737-042920f8621d",
      "cell_type": "code",
      "source": "print(set3)",
      "metadata": {
        "trusted": true
      },
      "outputs": [
        {
          "name": "stdout",
          "output_type": "stream",
          "text": "{1, 3, 4, 5, 7, 'antor', 'janie', 'shihab'}\n"
        }
      ],
      "execution_count": 2
    },
    {
      "id": "6260cc3e-e8bc-4c88-b306-41d51b83b412",
      "cell_type": "code",
      "source": "set1={'janie','antor','shihab'}\nset2={1,5,7,3,4}\nset3=set1 | set2\nset3",
      "metadata": {
        "trusted": true
      },
      "outputs": [
        {
          "execution_count": 3,
          "output_type": "execute_result",
          "data": {
            "text/plain": "{1, 3, 4, 5, 7, 'antor', 'janie', 'shihab'}"
          },
          "metadata": {}
        }
      ],
      "execution_count": 3
    },
    {
      "id": "fc28d827-536b-4924-9a9c-e99beb361364",
      "cell_type": "markdown",
      "source": "- Join multiple set together",
      "metadata": {}
    },
    {
      "id": "ed5f4857-0f6c-4fe6-939b-6b25a4760231",
      "cell_type": "code",
      "source": "set1={'janie','antor','shihab'}\nset2={1,5,7,3,4}\nset3={'tiger','lion','monkey'}\nset4={243,675,234}\nset5=set1.union(set4,set3,set2)\nset5",
      "metadata": {
        "trusted": true
      },
      "outputs": [
        {
          "execution_count": 4,
          "output_type": "execute_result",
          "data": {
            "text/plain": "{1,\n 234,\n 243,\n 3,\n 4,\n 5,\n 675,\n 7,\n 'antor',\n 'janie',\n 'lion',\n 'monkey',\n 'shihab',\n 'tiger'}"
          },
          "metadata": {}
        }
      ],
      "execution_count": 4
    },
    {
      "id": "e8d72829-8a2f-468f-8383-06abacdd1a1f",
      "cell_type": "code",
      "source": "print(set5)",
      "metadata": {
        "trusted": true
      },
      "outputs": [
        {
          "name": "stdout",
          "output_type": "stream",
          "text": "{1, 675, 3, 4, 5, 7, 234, 'monkey', 'antor', 243, 'janie', 'shihab', 'lion', 'tiger'}\n"
        }
      ],
      "execution_count": 5
    },
    {
      "id": "f2644946-510c-4d49-8c5d-06d398cb98df",
      "cell_type": "code",
      "source": "set5=set4 | set1 | set3\nprint(set5)",
      "metadata": {
        "trusted": true
      },
      "outputs": [
        {
          "name": "stdout",
          "output_type": "stream",
          "text": "{675, 234, 'monkey', 'antor', 243, 'janie', 'shihab', 'lion', 'tiger'}\n"
        }
      ],
      "execution_count": 6
    },
    {
      "id": "6cf87781-9fb3-4072-9978-a8baf3f55a5b",
      "cell_type": "markdown",
      "source": "- join a set and tuple",
      "metadata": {}
    },
    {
      "id": "4f730fec-5922-48c7-8a4a-72e6cd5cfd84",
      "cell_type": "code",
      "source": "tuple1=(3,5,3,20)\nset1={4,6,2}\nmix=set1.union(tuple1)\nmix",
      "metadata": {
        "trusted": true
      },
      "outputs": [
        {
          "execution_count": 7,
          "output_type": "execute_result",
          "data": {
            "text/plain": "{2, 3, 4, 5, 6, 20}"
          },
          "metadata": {}
        }
      ],
      "execution_count": 7
    },
    {
      "id": "5a6d8ca9-2e3b-4b15-b3f0-94742484c504",
      "cell_type": "code",
      "source": "set1={'janie','antor','shihab'}\nset2={1,5,7,3,4}\nset3={'tiger','lion','monkey'}\nset4={243,675,234}\nset5=set1.update(set4)\nprint(set5)",
      "metadata": {
        "trusted": true
      },
      "outputs": [
        {
          "name": "stdout",
          "output_type": "stream",
          "text": "None\n"
        }
      ],
      "execution_count": 12
    },
    {
      "id": "fcb92ea4-e88f-4077-b6a5-1d16b117b40c",
      "cell_type": "code",
      "source": "set5=set1.update(set3)\nprint(set5)",
      "metadata": {
        "trusted": true
      },
      "outputs": [
        {
          "name": "stdout",
          "output_type": "stream",
          "text": "None\n"
        }
      ],
      "execution_count": 13
    },
    {
      "id": "04148b6f-ee1b-4fa6-9994-e12628029a02",
      "cell_type": "code",
      "source": "set1.update(set3)\nset1",
      "metadata": {
        "trusted": true
      },
      "outputs": [
        {
          "execution_count": 14,
          "output_type": "execute_result",
          "data": {
            "text/plain": "{234, 243, 675, 'antor', 'janie', 'lion', 'monkey', 'shihab', 'tiger'}"
          },
          "metadata": {}
        }
      ],
      "execution_count": 14
    },
    {
      "id": "39a39312-3b19-4547-8635-cecd1a801d6b",
      "cell_type": "markdown",
      "source": "### Intersection\n- Keep ONLY the duplicates\n\n-The intersection() method will return a new set, that only contains the items that are present in both sets.\n- can use the & operator instead of the intersection() method, and you will get the same result",
      "metadata": {}
    },
    {
      "id": "809bbff4-6fab-4c02-9e1e-8641f722448f",
      "cell_type": "code",
      "source": "set1={'faria','jahan','janie'}\nset2={'rich','antor','biswas'}\nset3=set1.intersection(set2)\nset3",
      "metadata": {
        "trusted": true
      },
      "outputs": [
        {
          "execution_count": 17,
          "output_type": "execute_result",
          "data": {
            "text/plain": "set()"
          },
          "metadata": {}
        }
      ],
      "execution_count": 17
    },
    {
      "id": "902d2049-3b32-4b81-94f0-797d3e654b52",
      "cell_type": "code",
      "source": "set1={'faria','jahan','janie'}\nset2={'rich','antor','biswas','jahan'}\nset3=set1.intersection(set2)\nset3",
      "metadata": {
        "trusted": true
      },
      "outputs": [
        {
          "execution_count": 18,
          "output_type": "execute_result",
          "data": {
            "text/plain": "{'jahan'}"
          },
          "metadata": {}
        }
      ],
      "execution_count": 18
    },
    {
      "id": "fe58690a-b108-4843-a768-b4f22040cce2",
      "cell_type": "code",
      "source": "set1={'faria','jahan','janie','antor'}\nset2={'rich','antor','biswas','jahan'}\nset3=set1 & set2\nset3",
      "metadata": {
        "trusted": true
      },
      "outputs": [
        {
          "execution_count": 20,
          "output_type": "execute_result",
          "data": {
            "text/plain": "{'antor', 'jahan'}"
          },
          "metadata": {}
        }
      ],
      "execution_count": 20
    },
    {
      "id": "59bb2cff-5d00-4ec7-a2c2-3fda24159ebc",
      "cell_type": "code",
      "source": "set1 = {\"apple\", 1, \"banana\", 0, \"cherry\"}\nset2 = {False, \"google\", \"microsoft\", \"apple\", True}\n\nset3 = set1.intersection(set2)\nprint(set3)\n",
      "metadata": {
        "trusted": true
      },
      "outputs": [
        {
          "name": "stdout",
          "output_type": "stream",
          "text": "{False, True, 'apple'}\n"
        }
      ],
      "execution_count": 21
    },
    {
      "id": "2f6e5416-1afb-4d3d-8fd6-beed8a5b7ac9",
      "cell_type": "markdown",
      "source": "### Difference\n- The difference() method will return a new set that will contain only the items from the first set that are not present in the other set.",
      "metadata": {}
    },
    {
      "id": "d7209fcf-cb78-4a85-8ac8-570fcb6c1360",
      "cell_type": "code",
      "source": "set1 = {\"apple\", 1, \"banana\", 0, \"cherry\"}\nset2 = {False, \"google\", \"microsoft\", \"apple\", True}\nset3=set1.difference(set2)\nset3",
      "metadata": {
        "trusted": true
      },
      "outputs": [
        {
          "execution_count": 22,
          "output_type": "execute_result",
          "data": {
            "text/plain": "{'banana', 'cherry'}"
          },
          "metadata": {}
        }
      ],
      "execution_count": 22
    },
    {
      "id": "2d3edcc4-0cac-4408-9b02-b5e42dfaccff",
      "cell_type": "code",
      "source": "set1 = {\"apple\", 1, \"banana\", 0, \"cherry\",'jupyter'}\nset2 = {False, \"google\", \"microsoft\", \"apple\", True}\nset3=set1 - set2\nset3",
      "metadata": {
        "trusted": true
      },
      "outputs": [
        {
          "execution_count": 26,
          "output_type": "execute_result",
          "data": {
            "text/plain": "{'banana', 'cherry', 'jupyter'}"
          },
          "metadata": {}
        }
      ],
      "execution_count": 26
    },
    {
      "id": "c037bcaf-5360-4946-ba02-439eb10dc324",
      "cell_type": "code",
      "source": "### Symmetric_differen",
      "metadata": {
        "trusted": true
      },
      "outputs": [],
      "execution_count": null
    },
    {
      "id": "2a6bc6f2-b9cf-4d7c-a919-e43d420daaa0",
      "cell_type": "code",
      "source": "set1 = {\"apple\", 1, \"banana\", 0, \"cherry\",'jupyter','vscode'}\nset2 = {False, \"google\", \"microsoft\", \"apple\", True,1,'mango'}\nset3=set1.symmetric_difference(set2)\nset3",
      "metadata": {
        "trusted": true
      },
      "outputs": [
        {
          "execution_count": 27,
          "output_type": "execute_result",
          "data": {
            "text/plain": "{'banana', 'cherry', 'google', 'jupyter', 'mango', 'microsoft', 'vscode'}"
          },
          "metadata": {}
        }
      ],
      "execution_count": 27
    },
    {
      "id": "437a5c44-0b36-480e-ba7f-7b2f02d6cfb8",
      "cell_type": "code",
      "source": "",
      "metadata": {
        "trusted": true
      },
      "outputs": [],
      "execution_count": null
    }
  ]
}