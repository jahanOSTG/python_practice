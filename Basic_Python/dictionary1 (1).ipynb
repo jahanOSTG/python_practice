{
  "metadata": {
    "kernelspec": {
      "name": "python",
      "display_name": "Python (Pyodide)",
      "language": "python"
    },
    "language_info": {
      "codemirror_mode": {
        "name": "python",
        "version": 3
      },
      "file_extension": ".py",
      "mimetype": "text/x-python",
      "name": "python",
      "nbconvert_exporter": "python",
      "pygments_lexer": "ipython3",
      "version": "3.8"
    }
  },
  "nbformat_minor": 5,
  "nbformat": 4,
  "cells": [
    {
      "id": "cf9137f9-cef2-4014-8073-a66712151d85",
      "cell_type": "markdown",
      "source": "### Python Dictionaries",
      "metadata": {}
    },
    {
      "id": "37cd8b7c-e31b-48c1-b1e6-9b282089251f",
      "cell_type": "code",
      "source": "about={\n    'name' : 'Janie',\n    'ID' : 551,\n    'course' : 'CSE'\n}\nprint(about)",
      "metadata": {
        "trusted": true
      },
      "outputs": [
        {
          "name": "stdout",
          "output_type": "stream",
          "text": "{'name': 'Janie', 'ID': 551, 'course': 'CSE'}\n"
        }
      ],
      "execution_count": 2
    },
    {
      "id": "7220c814-ea54-41b1-a734-01619bba203d",
      "cell_type": "code",
      "source": "print(about['ID'])",
      "metadata": {
        "trusted": true
      },
      "outputs": [
        {
          "name": "stdout",
          "output_type": "stream",
          "text": "551\n"
        }
      ],
      "execution_count": 5
    },
    {
      "id": "1831bc8a-18be-4e95-9eb5-178a365fae7b",
      "cell_type": "markdown",
      "source": "- Duplicate values will overwrite existing values:",
      "metadata": {}
    },
    {
      "id": "885de675-6c87-43c9-950c-0e70e318897a",
      "cell_type": "code",
      "source": "about={\n    'name' : 'Janie',\n    'ID' : 551,\n    'ID' : 5551,\n    'course' : 'CSE'\n}\nprint(about)",
      "metadata": {
        "trusted": true
      },
      "outputs": [
        {
          "name": "stdout",
          "output_type": "stream",
          "text": "{'name': 'Janie', 'ID': 5551, 'course': 'CSE'}\n"
        }
      ],
      "execution_count": 6
    },
    {
      "id": "2d8eb1a1-1a72-4630-af55-40cd89b50fc6",
      "cell_type": "markdown",
      "source": "- Dictionary length",
      "metadata": {}
    },
    {
      "id": "f614c4c9-4504-40e4-950c-0b3a5d99e452",
      "cell_type": "code",
      "source": "print(len(about))",
      "metadata": {
        "trusted": true
      },
      "outputs": [
        {
          "name": "stdout",
          "output_type": "stream",
          "text": "3\n"
        }
      ],
      "execution_count": 7
    },
    {
      "id": "3d615246-93c5-480a-935b-e107d80574b5",
      "cell_type": "code",
      "source": "about={\n    'name' : 'Janie',\n    'ID' : 551,\n    'sub' :['oop','spl','sad'],\n    'course' : 'CSE'\n}\nprint(about)",
      "metadata": {
        "trusted": true
      },
      "outputs": [
        {
          "name": "stdout",
          "output_type": "stream",
          "text": "{'name': 'Janie', 'ID': 551, 'sub': ['oop', 'spl', 'sad'], 'course': 'CSE'}\n"
        }
      ],
      "execution_count": 9
    },
    {
      "id": "6ad25c17-7b0c-4648-984f-7884c5747fb5",
      "cell_type": "markdown",
      "source": "### The dict() Constructor\n- It is also possible to use the dict() constructor to make a dictionary.",
      "metadata": {}
    },
    {
      "id": "894dedf7-b5de-4cf5-adc5-00e6c839a30d",
      "cell_type": "code",
      "source": "about={\n    'name' : 'Janie',\n    'ID' : 551,\n    'sub' :['oop','spl','sad'],\n    'course' : 'CSE'\n}\nprint(type(about))",
      "metadata": {
        "trusted": true
      },
      "outputs": [
        {
          "name": "stdout",
          "output_type": "stream",
          "text": "<class 'dict'>\n"
        }
      ],
      "execution_count": 10
    },
    {
      "id": "958efa19-bb20-4dfc-a316-83974817a0e2",
      "cell_type": "code",
      "source": "about=dict(name=\"Faria\",friend=\"Richi\",age=24,country=\"Bangladesh\")\nprint(about)\n    ",
      "metadata": {
        "trusted": true
      },
      "outputs": [
        {
          "name": "stdout",
          "output_type": "stream",
          "text": "{'name': 'Faria', 'friend': 'Richi', 'age': 24, 'country': 'Bangladesh'}\n"
        }
      ],
      "execution_count": 15
    },
    {
      "id": "f3831cc6-9318-4cf3-8176-5a08fbd7a358",
      "cell_type": "code",
      "source": "",
      "metadata": {
        "trusted": true
      },
      "outputs": [],
      "execution_count": null
    }
  ]
}