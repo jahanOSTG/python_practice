{
  "metadata": {
    "kernelspec": {
      "name": "python",
      "display_name": "Python (Pyodide)",
      "language": "python"
    },
    "language_info": {
      "codemirror_mode": {
        "name": "python",
        "version": 3
      },
      "file_extension": ".py",
      "mimetype": "text/x-python",
      "name": "python",
      "nbconvert_exporter": "python",
      "pygments_lexer": "ipython3",
      "version": "3.8"
    }
  },
  "nbformat_minor": 5,
  "nbformat": 4,
  "cells": [
    {
      "id": "7a02772e-39eb-4503-8168-5355f2ece380",
      "cell_type": "markdown",
      "source": "- As tuple is unchangeble so if we want to update its data ,at first we have to convert it into list and then after editing we have to convert it again into tuple",
      "metadata": {}
    },
    {
      "id": "73e17926-9ea1-485e-8972-b113f10591e5",
      "cell_type": "code",
      "source": "color=('pink','green','red','blue')\nprint(color)",
      "metadata": {
        "trusted": true
      },
      "outputs": [
        {
          "name": "stdout",
          "output_type": "stream",
          "text": "('pink', 'green', 'red', 'blue')\n"
        }
      ],
      "execution_count": 3
    },
    {
      "id": "82b2d354-61a2-4978-b8d0-c1c13956b50d",
      "cell_type": "code",
      "source": "x=list(color)\nx[0]='queenpink'\ncolor=tuple(x)\nprint(color)\n",
      "metadata": {
        "trusted": true
      },
      "outputs": [
        {
          "name": "stdout",
          "output_type": "stream",
          "text": "('queenpink', 'green', 'red', 'blue')\n"
        }
      ],
      "execution_count": 4
    },
    {
      "id": "9a174df6-3c99-42f8-8d1f-a40fe710de98",
      "cell_type": "code",
      "source": "x=list(color)\nx.append('queenpink')\ncolor=tuple(x)\nprint(color)",
      "metadata": {
        "trusted": true
      },
      "outputs": [
        {
          "name": "stdout",
          "output_type": "stream",
          "text": "('queenpink', 'green', 'red', 'blue', 'queenpink')\n"
        }
      ],
      "execution_count": 6
    },
    {
      "id": "bc4b74e2-e78c-4617-9817-b01849ee7c15",
      "cell_type": "code",
      "source": "x=list(color)\nx.extend('queenpink')\ncolor=tuple(x)\nprint(color)",
      "metadata": {
        "trusted": true
      },
      "outputs": [
        {
          "name": "stdout",
          "output_type": "stream",
          "text": "('queenpink', 'green', 'red', 'blue', 'queenpink', 'q', 'u', 'e', 'e', 'n', 'p', 'i', 'n', 'k')\n"
        }
      ],
      "execution_count": 7
    },
    {
      "id": "23749db4-82b2-459a-a6b7-8f130e776b93",
      "cell_type": "code",
      "source": "color=('pink','green','red','blue')\nx=list(color)\nx.remove('red')\ncolor=tuple(x)\nprint(color)\n",
      "metadata": {
        "trusted": true
      },
      "outputs": [
        {
          "name": "stdout",
          "output_type": "stream",
          "text": "('pink', 'green', 'blue')\n"
        }
      ],
      "execution_count": 8
    },
    {
      "id": "b6f77c6e-a895-4339-8e67-f7b074b86751",
      "cell_type": "code",
      "source": "del color\nprint(color)\n",
      "metadata": {
        "trusted": true
      },
      "outputs": [
        {
          "ename": "<class 'NameError'>",
          "evalue": "name 'color' is not defined",
          "traceback": [
            "\u001b[0;31m---------------------------------------------------------------------------\u001b[0m",
            "\u001b[0;31mNameError\u001b[0m                                 Traceback (most recent call last)",
            "Cell \u001b[0;32mIn[9], line 2\u001b[0m\n\u001b[1;32m      1\u001b[0m \u001b[38;5;28;01mdel\u001b[39;00m color\n\u001b[0;32m----> 2\u001b[0m \u001b[38;5;28mprint\u001b[39m(\u001b[43mcolor\u001b[49m)\n",
            "\u001b[0;31mNameError\u001b[0m: name 'color' is not defined"
          ],
          "output_type": "error"
        }
      ],
      "execution_count": 9
    },
    {
      "id": "83006d89-30bc-4fad-9a0e-b44e95bc0bfa",
      "cell_type": "code",
      "source": "",
      "metadata": {
        "trusted": true
      },
      "outputs": [],
      "execution_count": null
    }
  ]
}