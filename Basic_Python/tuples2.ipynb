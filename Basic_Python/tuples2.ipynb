{
  "metadata": {
    "kernelspec": {
      "name": "python",
      "display_name": "Python (Pyodide)",
      "language": "python"
    },
    "language_info": {
      "codemirror_mode": {
        "name": "python",
        "version": 3
      },
      "file_extension": ".py",
      "mimetype": "text/x-python",
      "name": "python",
      "nbconvert_exporter": "python",
      "pygments_lexer": "ipython3",
      "version": "3.8"
    }
  },
  "nbformat_minor": 5,
  "nbformat": 4,
  "cells": [
    {
      "id": "7a02772e-39eb-4503-8168-5355f2ece380",
      "cell_type": "markdown",
      "source": "- As tuple is unchangeble so if we want to update its data ,at first we have to convert it into list and then after editing we have to convert it again into tuple",
      "metadata": {}
    },
    {
      "id": "73e17926-9ea1-485e-8972-b113f10591e5",
      "cell_type": "code",
      "source": "color=('pink','green','red','blue')\nprint(color)",
      "metadata": {
        "trusted": true
      },
      "outputs": [
        {
          "name": "stdout",
          "output_type": "stream",
          "text": "('pink', 'green', 'red', 'blue')\n"
        }
      ],
      "execution_count": 3
    },
    {
      "id": "82b2d354-61a2-4978-b8d0-c1c13956b50d",
      "cell_type": "code",
      "source": "x=list(color)\nx[0]='queenpink'\ncolor=tuple(x)\nprint(color)\n",
      "metadata": {
        "trusted": true
      },
      "outputs": [
        {
          "name": "stdout",
          "output_type": "stream",
          "text": "('queenpink', 'green', 'red', 'blue')\n"
        }
      ],
      "execution_count": 4
    },
    {
      "id": "9a174df6-3c99-42f8-8d1f-a40fe710de98",
      "cell_type": "code",
      "source": "x=list(color)\nx.append('queenpink')\ncolor=tuple(x)\nprint(color)",
      "metadata": {
        "trusted": true
      },
      "outputs": [
        {
          "name": "stdout",
          "output_type": "stream",
          "text": "('queenpink', 'green', 'red', 'blue', 'queenpink')\n"
        }
      ],
      "execution_count": 6
    },
    {
      "id": "bc4b74e2-e78c-4617-9817-b01849ee7c15",
      "cell_type": "code",
      "source": "x=list(color)\nx.extend('queenpink')\ncolor=tuple(x)\nprint(color)",
      "metadata": {
        "trusted": true
      },
      "outputs": [
        {
          "name": "stdout",
          "output_type": "stream",
          "text": "('queenpink', 'green', 'red', 'blue', 'queenpink', 'q', 'u', 'e', 'e', 'n', 'p', 'i', 'n', 'k')\n"
        }
      ],
      "execution_count": 7
    },
    {
      "id": "23749db4-82b2-459a-a6b7-8f130e776b93",
      "cell_type": "code",
      "source": "color=('pink','green','red','blue')\nx=list(color)\nx.remove('red')\ncolor=tuple(x)\nprint(color)\n",
      "metadata": {
        "trusted": true
      },
      "outputs": [
        {
          "name": "stdout",
          "output_type": "stream",
          "text": "('pink', 'green', 'blue')\n"
        }
      ],
      "execution_count": 8
    },
    {
      "id": "b6f77c6e-a895-4339-8e67-f7b074b86751",
      "cell_type": "code",
      "source": "del color\nprint(color)\n",
      "metadata": {
        "trusted": true
      },
      "outputs": [
        {
          "ename": "<class 'NameError'>",
          "evalue": "name 'color' is not defined",
          "traceback": [
            "\u001b[0;31m---------------------------------------------------------------------------\u001b[0m",
            "\u001b[0;31mNameError\u001b[0m                                 Traceback (most recent call last)",
            "Cell \u001b[0;32mIn[9], line 2\u001b[0m\n\u001b[1;32m      1\u001b[0m \u001b[38;5;28;01mdel\u001b[39;00m color\n\u001b[0;32m----> 2\u001b[0m \u001b[38;5;28mprint\u001b[39m(\u001b[43mcolor\u001b[49m)\n",
            "\u001b[0;31mNameError\u001b[0m: name 'color' is not defined"
          ],
          "output_type": "error"
        }
      ],
      "execution_count": 9
    },
    {
      "id": "b12c5c0d-a491-4dcc-8309-efa66283e498",
      "cell_type": "markdown",
      "source": "### Tuples unpacking",
      "metadata": {}
    },
    {
      "id": "95fe7b9a-c308-430e-8e41-f96dfa67ce8f",
      "cell_type": "code",
      "source": "food=('noodles','pizza','barger','hotdog')\nprint(food)",
      "metadata": {
        "trusted": true
      },
      "outputs": [
        {
          "name": "stdout",
          "output_type": "stream",
          "text": "('noodles', 'pizza', 'barger', 'hotdog')\n"
        }
      ],
      "execution_count": 1
    },
    {
      "id": "87652dca-1f49-403c-976f-49356dbf2d78",
      "cell_type": "code",
      "source": "(a,b,c,d)=food\nprint(a)\nprint(b)\nprint(c)\nprint(d)",
      "metadata": {
        "trusted": true
      },
      "outputs": [
        {
          "name": "stdout",
          "output_type": "stream",
          "text": "noodles\npizza\nbarger\nhotdog\n"
        }
      ],
      "execution_count": 2
    },
    {
      "id": "87dac199-d282-440a-a9c1-a65df8f97d17",
      "cell_type": "code",
      "source": "food=('noodles','pizza','barger','hotdog')\n(b,*a,c)=food\n\nprint(b)\nprint(a)\nprint(c)",
      "metadata": {
        "trusted": true
      },
      "outputs": [
        {
          "name": "stdout",
          "output_type": "stream",
          "text": "noodles\n['pizza', 'barger']\nhotdog\n"
        }
      ],
      "execution_count": 7
    },
    {
      "id": "85803101-5c85-456f-b4ea-6980942daa44",
      "cell_type": "code",
      "source": "food=('noodles','pizza','barger','hotdog')\n(b,*a)=food\n\nprint(b)\nprint(a)\n",
      "metadata": {
        "trusted": true
      },
      "outputs": [
        {
          "name": "stdout",
          "output_type": "stream",
          "text": "noodles\n['pizza', 'barger', 'hotdog']\n"
        }
      ],
      "execution_count": 9
    },
    {
      "id": "6500655e-224f-43da-b6ca-f532b6b4da0e",
      "cell_type": "markdown",
      "source": "### Loop tuples",
      "metadata": {}
    },
    {
      "id": "76cba5a9-5bbb-40ca-944b-c122888cd7e8",
      "cell_type": "code",
      "source": "for x in food:\n    print(x)",
      "metadata": {
        "trusted": true
      },
      "outputs": [
        {
          "name": "stdout",
          "output_type": "stream",
          "text": "noodles\npizza\nbarger\nhotdog\n"
        }
      ],
      "execution_count": 10
    },
    {
      "id": "9417aca6-a46b-4c9c-a9be-6810620c54d9",
      "cell_type": "code",
      "source": "\n    print(len(food))",
      "metadata": {
        "trusted": true
      },
      "outputs": [
        {
          "name": "stdout",
          "output_type": "stream",
          "text": "4\n"
        }
      ],
      "execution_count": 16
    },
    {
      "id": "a7538464-5976-427d-857b-c6067e3bcda6",
      "cell_type": "code",
      "source": "i=0\nwhile i<len(food):\n    print(food[i])\n    i=i+2",
      "metadata": {
        "trusted": true
      },
      "outputs": [
        {
          "name": "stdout",
          "output_type": "stream",
          "text": "noodles\nbarger\n"
        }
      ],
      "execution_count": 18
    },
    {
      "id": "f3e32b9a-e0f9-4cca-a9e2-519e53e50d5b",
      "cell_type": "markdown",
      "source": "### Join Tuples",
      "metadata": {}
    },
    {
      "id": "af8046cc-0a5e-4090-a295-403656bc4edb",
      "cell_type": "code",
      "source": "food=('noodles','pizza','barger','hotdog')\nnum=(1,6,8,3,2)\nmix=food+num\nprint(mix)",
      "metadata": {
        "trusted": true
      },
      "outputs": [
        {
          "name": "stdout",
          "output_type": "stream",
          "text": "('noodles', 'pizza', 'barger', 'hotdog', 1, 6, 8, 3, 2)\n"
        }
      ],
      "execution_count": 20
    },
    {
      "id": "44603c8f-a125-4314-baef-4b806dd9ed0b",
      "cell_type": "code",
      "source": "print(num*2)",
      "metadata": {
        "trusted": true
      },
      "outputs": [
        {
          "name": "stdout",
          "output_type": "stream",
          "text": "(1, 6, 8, 3, 2, 1, 6, 8, 3, 2)\n"
        }
      ],
      "execution_count": 21
    },
    {
      "id": "aa06b1cd-b7b6-422d-a99f-dc1b722e0f7f",
      "cell_type": "code",
      "source": "print(food*2)",
      "metadata": {
        "trusted": true
      },
      "outputs": [
        {
          "name": "stdout",
          "output_type": "stream",
          "text": "('noodles', 'pizza', 'barger', 'hotdog', 'noodles', 'pizza', 'barger', 'hotdog')\n"
        }
      ],
      "execution_count": 22
    },
    {
      "id": "d1908d57-1b9c-429b-b728-22f7b909eeef",
      "cell_type": "code",
      "source": "",
      "metadata": {
        "trusted": true
      },
      "outputs": [],
      "execution_count": null
    }
  ]
}